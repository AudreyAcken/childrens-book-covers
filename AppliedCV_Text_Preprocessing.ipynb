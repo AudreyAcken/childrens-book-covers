{
  "nbformat": 4,
  "nbformat_minor": 0,
  "metadata": {
    "colab": {
      "provenance": [],
      "machine_shape": "hm",
      "gpuType": "T4"
    },
    "kernelspec": {
      "name": "python3",
      "display_name": "Python 3"
    },
    "language_info": {
      "name": "python"
    },
    "accelerator": "GPU",
    "widgets": {
      "application/vnd.jupyter.widget-state+json": {
        "84840b4635b74358ba61aeea83fb4695": {
          "model_module": "@jupyter-widgets/controls",
          "model_name": "HBoxModel",
          "model_module_version": "1.5.0",
          "state": {
            "_dom_classes": [],
            "_model_module": "@jupyter-widgets/controls",
            "_model_module_version": "1.5.0",
            "_model_name": "HBoxModel",
            "_view_count": null,
            "_view_module": "@jupyter-widgets/controls",
            "_view_module_version": "1.5.0",
            "_view_name": "HBoxView",
            "box_style": "",
            "children": [
              "IPY_MODEL_c40967e17d264af5b8eb1f4ff1fedc6d",
              "IPY_MODEL_a603ae63e89c4a99a16d5c961cd94d2a",
              "IPY_MODEL_5f92e4d1cfb84837bb9f0d20f7c0b55f"
            ],
            "layout": "IPY_MODEL_26cc98ecc55246b28f9308002a1a5a6a"
          }
        },
        "c40967e17d264af5b8eb1f4ff1fedc6d": {
          "model_module": "@jupyter-widgets/controls",
          "model_name": "HTMLModel",
          "model_module_version": "1.5.0",
          "state": {
            "_dom_classes": [],
            "_model_module": "@jupyter-widgets/controls",
            "_model_module_version": "1.5.0",
            "_model_name": "HTMLModel",
            "_view_count": null,
            "_view_module": "@jupyter-widgets/controls",
            "_view_module_version": "1.5.0",
            "_view_name": "HTMLView",
            "description": "",
            "description_tooltip": null,
            "layout": "IPY_MODEL_e22df2ce7f71464a99b5c931a76f8c5a",
            "placeholder": "​",
            "style": "IPY_MODEL_6b0e2862a4a44937bb1a6f93802f2af4",
            "value": "Training Epoch 1: 100%"
          }
        },
        "a603ae63e89c4a99a16d5c961cd94d2a": {
          "model_module": "@jupyter-widgets/controls",
          "model_name": "FloatProgressModel",
          "model_module_version": "1.5.0",
          "state": {
            "_dom_classes": [],
            "_model_module": "@jupyter-widgets/controls",
            "_model_module_version": "1.5.0",
            "_model_name": "FloatProgressModel",
            "_view_count": null,
            "_view_module": "@jupyter-widgets/controls",
            "_view_module_version": "1.5.0",
            "_view_name": "ProgressView",
            "bar_style": "success",
            "description": "",
            "description_tooltip": null,
            "layout": "IPY_MODEL_16034d1544e64c08ad28b6ebeed82633",
            "max": 984,
            "min": 0,
            "orientation": "horizontal",
            "style": "IPY_MODEL_4215e1e722664081b2300269bd1f1589",
            "value": 984
          }
        },
        "5f92e4d1cfb84837bb9f0d20f7c0b55f": {
          "model_module": "@jupyter-widgets/controls",
          "model_name": "HTMLModel",
          "model_module_version": "1.5.0",
          "state": {
            "_dom_classes": [],
            "_model_module": "@jupyter-widgets/controls",
            "_model_module_version": "1.5.0",
            "_model_name": "HTMLModel",
            "_view_count": null,
            "_view_module": "@jupyter-widgets/controls",
            "_view_module_version": "1.5.0",
            "_view_name": "HTMLView",
            "description": "",
            "description_tooltip": null,
            "layout": "IPY_MODEL_6829bf8c64fd414db56a51f9c5f5a67d",
            "placeholder": "​",
            "style": "IPY_MODEL_bb7b206fdb50435aabb258e6f8049774",
            "value": " 984/984 [05:45&lt;00:00,  2.78it/s]"
          }
        },
        "26cc98ecc55246b28f9308002a1a5a6a": {
          "model_module": "@jupyter-widgets/base",
          "model_name": "LayoutModel",
          "model_module_version": "1.2.0",
          "state": {
            "_model_module": "@jupyter-widgets/base",
            "_model_module_version": "1.2.0",
            "_model_name": "LayoutModel",
            "_view_count": null,
            "_view_module": "@jupyter-widgets/base",
            "_view_module_version": "1.2.0",
            "_view_name": "LayoutView",
            "align_content": null,
            "align_items": null,
            "align_self": null,
            "border": null,
            "bottom": null,
            "display": null,
            "flex": null,
            "flex_flow": null,
            "grid_area": null,
            "grid_auto_columns": null,
            "grid_auto_flow": null,
            "grid_auto_rows": null,
            "grid_column": null,
            "grid_gap": null,
            "grid_row": null,
            "grid_template_areas": null,
            "grid_template_columns": null,
            "grid_template_rows": null,
            "height": null,
            "justify_content": null,
            "justify_items": null,
            "left": null,
            "margin": null,
            "max_height": null,
            "max_width": null,
            "min_height": null,
            "min_width": null,
            "object_fit": null,
            "object_position": null,
            "order": null,
            "overflow": null,
            "overflow_x": null,
            "overflow_y": null,
            "padding": null,
            "right": null,
            "top": null,
            "visibility": null,
            "width": null
          }
        },
        "e22df2ce7f71464a99b5c931a76f8c5a": {
          "model_module": "@jupyter-widgets/base",
          "model_name": "LayoutModel",
          "model_module_version": "1.2.0",
          "state": {
            "_model_module": "@jupyter-widgets/base",
            "_model_module_version": "1.2.0",
            "_model_name": "LayoutModel",
            "_view_count": null,
            "_view_module": "@jupyter-widgets/base",
            "_view_module_version": "1.2.0",
            "_view_name": "LayoutView",
            "align_content": null,
            "align_items": null,
            "align_self": null,
            "border": null,
            "bottom": null,
            "display": null,
            "flex": null,
            "flex_flow": null,
            "grid_area": null,
            "grid_auto_columns": null,
            "grid_auto_flow": null,
            "grid_auto_rows": null,
            "grid_column": null,
            "grid_gap": null,
            "grid_row": null,
            "grid_template_areas": null,
            "grid_template_columns": null,
            "grid_template_rows": null,
            "height": null,
            "justify_content": null,
            "justify_items": null,
            "left": null,
            "margin": null,
            "max_height": null,
            "max_width": null,
            "min_height": null,
            "min_width": null,
            "object_fit": null,
            "object_position": null,
            "order": null,
            "overflow": null,
            "overflow_x": null,
            "overflow_y": null,
            "padding": null,
            "right": null,
            "top": null,
            "visibility": null,
            "width": null
          }
        },
        "6b0e2862a4a44937bb1a6f93802f2af4": {
          "model_module": "@jupyter-widgets/controls",
          "model_name": "DescriptionStyleModel",
          "model_module_version": "1.5.0",
          "state": {
            "_model_module": "@jupyter-widgets/controls",
            "_model_module_version": "1.5.0",
            "_model_name": "DescriptionStyleModel",
            "_view_count": null,
            "_view_module": "@jupyter-widgets/base",
            "_view_module_version": "1.2.0",
            "_view_name": "StyleView",
            "description_width": ""
          }
        },
        "16034d1544e64c08ad28b6ebeed82633": {
          "model_module": "@jupyter-widgets/base",
          "model_name": "LayoutModel",
          "model_module_version": "1.2.0",
          "state": {
            "_model_module": "@jupyter-widgets/base",
            "_model_module_version": "1.2.0",
            "_model_name": "LayoutModel",
            "_view_count": null,
            "_view_module": "@jupyter-widgets/base",
            "_view_module_version": "1.2.0",
            "_view_name": "LayoutView",
            "align_content": null,
            "align_items": null,
            "align_self": null,
            "border": null,
            "bottom": null,
            "display": null,
            "flex": null,
            "flex_flow": null,
            "grid_area": null,
            "grid_auto_columns": null,
            "grid_auto_flow": null,
            "grid_auto_rows": null,
            "grid_column": null,
            "grid_gap": null,
            "grid_row": null,
            "grid_template_areas": null,
            "grid_template_columns": null,
            "grid_template_rows": null,
            "height": null,
            "justify_content": null,
            "justify_items": null,
            "left": null,
            "margin": null,
            "max_height": null,
            "max_width": null,
            "min_height": null,
            "min_width": null,
            "object_fit": null,
            "object_position": null,
            "order": null,
            "overflow": null,
            "overflow_x": null,
            "overflow_y": null,
            "padding": null,
            "right": null,
            "top": null,
            "visibility": null,
            "width": null
          }
        },
        "4215e1e722664081b2300269bd1f1589": {
          "model_module": "@jupyter-widgets/controls",
          "model_name": "ProgressStyleModel",
          "model_module_version": "1.5.0",
          "state": {
            "_model_module": "@jupyter-widgets/controls",
            "_model_module_version": "1.5.0",
            "_model_name": "ProgressStyleModel",
            "_view_count": null,
            "_view_module": "@jupyter-widgets/base",
            "_view_module_version": "1.2.0",
            "_view_name": "StyleView",
            "bar_color": null,
            "description_width": ""
          }
        },
        "6829bf8c64fd414db56a51f9c5f5a67d": {
          "model_module": "@jupyter-widgets/base",
          "model_name": "LayoutModel",
          "model_module_version": "1.2.0",
          "state": {
            "_model_module": "@jupyter-widgets/base",
            "_model_module_version": "1.2.0",
            "_model_name": "LayoutModel",
            "_view_count": null,
            "_view_module": "@jupyter-widgets/base",
            "_view_module_version": "1.2.0",
            "_view_name": "LayoutView",
            "align_content": null,
            "align_items": null,
            "align_self": null,
            "border": null,
            "bottom": null,
            "display": null,
            "flex": null,
            "flex_flow": null,
            "grid_area": null,
            "grid_auto_columns": null,
            "grid_auto_flow": null,
            "grid_auto_rows": null,
            "grid_column": null,
            "grid_gap": null,
            "grid_row": null,
            "grid_template_areas": null,
            "grid_template_columns": null,
            "grid_template_rows": null,
            "height": null,
            "justify_content": null,
            "justify_items": null,
            "left": null,
            "margin": null,
            "max_height": null,
            "max_width": null,
            "min_height": null,
            "min_width": null,
            "object_fit": null,
            "object_position": null,
            "order": null,
            "overflow": null,
            "overflow_x": null,
            "overflow_y": null,
            "padding": null,
            "right": null,
            "top": null,
            "visibility": null,
            "width": null
          }
        },
        "bb7b206fdb50435aabb258e6f8049774": {
          "model_module": "@jupyter-widgets/controls",
          "model_name": "DescriptionStyleModel",
          "model_module_version": "1.5.0",
          "state": {
            "_model_module": "@jupyter-widgets/controls",
            "_model_module_version": "1.5.0",
            "_model_name": "DescriptionStyleModel",
            "_view_count": null,
            "_view_module": "@jupyter-widgets/base",
            "_view_module_version": "1.2.0",
            "_view_name": "StyleView",
            "description_width": ""
          }
        },
        "bd720764d79b44c691522b1e8c5ada7c": {
          "model_module": "@jupyter-widgets/controls",
          "model_name": "HBoxModel",
          "model_module_version": "1.5.0",
          "state": {
            "_dom_classes": [],
            "_model_module": "@jupyter-widgets/controls",
            "_model_module_version": "1.5.0",
            "_model_name": "HBoxModel",
            "_view_count": null,
            "_view_module": "@jupyter-widgets/controls",
            "_view_module_version": "1.5.0",
            "_view_name": "HBoxView",
            "box_style": "",
            "children": [
              "IPY_MODEL_1508105ecb434d2bb818232f91b47da8",
              "IPY_MODEL_a41c229c461b4b27a1d8e7ca6b3a3381",
              "IPY_MODEL_cce2b50aeead417995367a94815842c8"
            ],
            "layout": "IPY_MODEL_c672a4823f864d61a1aeb3ba4b60e4d7"
          }
        },
        "1508105ecb434d2bb818232f91b47da8": {
          "model_module": "@jupyter-widgets/controls",
          "model_name": "HTMLModel",
          "model_module_version": "1.5.0",
          "state": {
            "_dom_classes": [],
            "_model_module": "@jupyter-widgets/controls",
            "_model_module_version": "1.5.0",
            "_model_name": "HTMLModel",
            "_view_count": null,
            "_view_module": "@jupyter-widgets/controls",
            "_view_module_version": "1.5.0",
            "_view_name": "HTMLView",
            "description": "",
            "description_tooltip": null,
            "layout": "IPY_MODEL_461a7e15f3624dc7a135f0451365ee20",
            "placeholder": "​",
            "style": "IPY_MODEL_995cc92f8d2d43308cfdedbe3e392352",
            "value": "Validating Epoch 1: 100%"
          }
        },
        "a41c229c461b4b27a1d8e7ca6b3a3381": {
          "model_module": "@jupyter-widgets/controls",
          "model_name": "FloatProgressModel",
          "model_module_version": "1.5.0",
          "state": {
            "_dom_classes": [],
            "_model_module": "@jupyter-widgets/controls",
            "_model_module_version": "1.5.0",
            "_model_name": "FloatProgressModel",
            "_view_count": null,
            "_view_module": "@jupyter-widgets/controls",
            "_view_module_version": "1.5.0",
            "_view_name": "ProgressView",
            "bar_style": "success",
            "description": "",
            "description_tooltip": null,
            "layout": "IPY_MODEL_f6027ebfd2474dd9b3cf0792cac1a5b6",
            "max": 328,
            "min": 0,
            "orientation": "horizontal",
            "style": "IPY_MODEL_4db0c782729f464d8f6bcdd1657b5cfc",
            "value": 328
          }
        },
        "cce2b50aeead417995367a94815842c8": {
          "model_module": "@jupyter-widgets/controls",
          "model_name": "HTMLModel",
          "model_module_version": "1.5.0",
          "state": {
            "_dom_classes": [],
            "_model_module": "@jupyter-widgets/controls",
            "_model_module_version": "1.5.0",
            "_model_name": "HTMLModel",
            "_view_count": null,
            "_view_module": "@jupyter-widgets/controls",
            "_view_module_version": "1.5.0",
            "_view_name": "HTMLView",
            "description": "",
            "description_tooltip": null,
            "layout": "IPY_MODEL_4eb98d48510247d584ace6ffc1e5baf7",
            "placeholder": "​",
            "style": "IPY_MODEL_3a88e69e13bc4e0fb75b9251451ee26a",
            "value": " 328/328 [00:35&lt;00:00,  9.31it/s]"
          }
        },
        "c672a4823f864d61a1aeb3ba4b60e4d7": {
          "model_module": "@jupyter-widgets/base",
          "model_name": "LayoutModel",
          "model_module_version": "1.2.0",
          "state": {
            "_model_module": "@jupyter-widgets/base",
            "_model_module_version": "1.2.0",
            "_model_name": "LayoutModel",
            "_view_count": null,
            "_view_module": "@jupyter-widgets/base",
            "_view_module_version": "1.2.0",
            "_view_name": "LayoutView",
            "align_content": null,
            "align_items": null,
            "align_self": null,
            "border": null,
            "bottom": null,
            "display": null,
            "flex": null,
            "flex_flow": null,
            "grid_area": null,
            "grid_auto_columns": null,
            "grid_auto_flow": null,
            "grid_auto_rows": null,
            "grid_column": null,
            "grid_gap": null,
            "grid_row": null,
            "grid_template_areas": null,
            "grid_template_columns": null,
            "grid_template_rows": null,
            "height": null,
            "justify_content": null,
            "justify_items": null,
            "left": null,
            "margin": null,
            "max_height": null,
            "max_width": null,
            "min_height": null,
            "min_width": null,
            "object_fit": null,
            "object_position": null,
            "order": null,
            "overflow": null,
            "overflow_x": null,
            "overflow_y": null,
            "padding": null,
            "right": null,
            "top": null,
            "visibility": null,
            "width": null
          }
        },
        "461a7e15f3624dc7a135f0451365ee20": {
          "model_module": "@jupyter-widgets/base",
          "model_name": "LayoutModel",
          "model_module_version": "1.2.0",
          "state": {
            "_model_module": "@jupyter-widgets/base",
            "_model_module_version": "1.2.0",
            "_model_name": "LayoutModel",
            "_view_count": null,
            "_view_module": "@jupyter-widgets/base",
            "_view_module_version": "1.2.0",
            "_view_name": "LayoutView",
            "align_content": null,
            "align_items": null,
            "align_self": null,
            "border": null,
            "bottom": null,
            "display": null,
            "flex": null,
            "flex_flow": null,
            "grid_area": null,
            "grid_auto_columns": null,
            "grid_auto_flow": null,
            "grid_auto_rows": null,
            "grid_column": null,
            "grid_gap": null,
            "grid_row": null,
            "grid_template_areas": null,
            "grid_template_columns": null,
            "grid_template_rows": null,
            "height": null,
            "justify_content": null,
            "justify_items": null,
            "left": null,
            "margin": null,
            "max_height": null,
            "max_width": null,
            "min_height": null,
            "min_width": null,
            "object_fit": null,
            "object_position": null,
            "order": null,
            "overflow": null,
            "overflow_x": null,
            "overflow_y": null,
            "padding": null,
            "right": null,
            "top": null,
            "visibility": null,
            "width": null
          }
        },
        "995cc92f8d2d43308cfdedbe3e392352": {
          "model_module": "@jupyter-widgets/controls",
          "model_name": "DescriptionStyleModel",
          "model_module_version": "1.5.0",
          "state": {
            "_model_module": "@jupyter-widgets/controls",
            "_model_module_version": "1.5.0",
            "_model_name": "DescriptionStyleModel",
            "_view_count": null,
            "_view_module": "@jupyter-widgets/base",
            "_view_module_version": "1.2.0",
            "_view_name": "StyleView",
            "description_width": ""
          }
        },
        "f6027ebfd2474dd9b3cf0792cac1a5b6": {
          "model_module": "@jupyter-widgets/base",
          "model_name": "LayoutModel",
          "model_module_version": "1.2.0",
          "state": {
            "_model_module": "@jupyter-widgets/base",
            "_model_module_version": "1.2.0",
            "_model_name": "LayoutModel",
            "_view_count": null,
            "_view_module": "@jupyter-widgets/base",
            "_view_module_version": "1.2.0",
            "_view_name": "LayoutView",
            "align_content": null,
            "align_items": null,
            "align_self": null,
            "border": null,
            "bottom": null,
            "display": null,
            "flex": null,
            "flex_flow": null,
            "grid_area": null,
            "grid_auto_columns": null,
            "grid_auto_flow": null,
            "grid_auto_rows": null,
            "grid_column": null,
            "grid_gap": null,
            "grid_row": null,
            "grid_template_areas": null,
            "grid_template_columns": null,
            "grid_template_rows": null,
            "height": null,
            "justify_content": null,
            "justify_items": null,
            "left": null,
            "margin": null,
            "max_height": null,
            "max_width": null,
            "min_height": null,
            "min_width": null,
            "object_fit": null,
            "object_position": null,
            "order": null,
            "overflow": null,
            "overflow_x": null,
            "overflow_y": null,
            "padding": null,
            "right": null,
            "top": null,
            "visibility": null,
            "width": null
          }
        },
        "4db0c782729f464d8f6bcdd1657b5cfc": {
          "model_module": "@jupyter-widgets/controls",
          "model_name": "ProgressStyleModel",
          "model_module_version": "1.5.0",
          "state": {
            "_model_module": "@jupyter-widgets/controls",
            "_model_module_version": "1.5.0",
            "_model_name": "ProgressStyleModel",
            "_view_count": null,
            "_view_module": "@jupyter-widgets/base",
            "_view_module_version": "1.2.0",
            "_view_name": "StyleView",
            "bar_color": null,
            "description_width": ""
          }
        },
        "4eb98d48510247d584ace6ffc1e5baf7": {
          "model_module": "@jupyter-widgets/base",
          "model_name": "LayoutModel",
          "model_module_version": "1.2.0",
          "state": {
            "_model_module": "@jupyter-widgets/base",
            "_model_module_version": "1.2.0",
            "_model_name": "LayoutModel",
            "_view_count": null,
            "_view_module": "@jupyter-widgets/base",
            "_view_module_version": "1.2.0",
            "_view_name": "LayoutView",
            "align_content": null,
            "align_items": null,
            "align_self": null,
            "border": null,
            "bottom": null,
            "display": null,
            "flex": null,
            "flex_flow": null,
            "grid_area": null,
            "grid_auto_columns": null,
            "grid_auto_flow": null,
            "grid_auto_rows": null,
            "grid_column": null,
            "grid_gap": null,
            "grid_row": null,
            "grid_template_areas": null,
            "grid_template_columns": null,
            "grid_template_rows": null,
            "height": null,
            "justify_content": null,
            "justify_items": null,
            "left": null,
            "margin": null,
            "max_height": null,
            "max_width": null,
            "min_height": null,
            "min_width": null,
            "object_fit": null,
            "object_position": null,
            "order": null,
            "overflow": null,
            "overflow_x": null,
            "overflow_y": null,
            "padding": null,
            "right": null,
            "top": null,
            "visibility": null,
            "width": null
          }
        },
        "3a88e69e13bc4e0fb75b9251451ee26a": {
          "model_module": "@jupyter-widgets/controls",
          "model_name": "DescriptionStyleModel",
          "model_module_version": "1.5.0",
          "state": {
            "_model_module": "@jupyter-widgets/controls",
            "_model_module_version": "1.5.0",
            "_model_name": "DescriptionStyleModel",
            "_view_count": null,
            "_view_module": "@jupyter-widgets/base",
            "_view_module_version": "1.2.0",
            "_view_name": "StyleView",
            "description_width": ""
          }
        },
        "fffa6903cbf0402e8b3cafb29f7f0143": {
          "model_module": "@jupyter-widgets/controls",
          "model_name": "HBoxModel",
          "model_module_version": "1.5.0",
          "state": {
            "_dom_classes": [],
            "_model_module": "@jupyter-widgets/controls",
            "_model_module_version": "1.5.0",
            "_model_name": "HBoxModel",
            "_view_count": null,
            "_view_module": "@jupyter-widgets/controls",
            "_view_module_version": "1.5.0",
            "_view_name": "HBoxView",
            "box_style": "",
            "children": [
              "IPY_MODEL_85bc8f21d0d14a81af7ac6a13bfa2dd5",
              "IPY_MODEL_f0b49970d27c4e5197256d5a70a0aa89",
              "IPY_MODEL_915799adf77744628d58d5a0fa50e7d5"
            ],
            "layout": "IPY_MODEL_99dab1e26e8647cfaa29ba6a8a056211"
          }
        },
        "85bc8f21d0d14a81af7ac6a13bfa2dd5": {
          "model_module": "@jupyter-widgets/controls",
          "model_name": "HTMLModel",
          "model_module_version": "1.5.0",
          "state": {
            "_dom_classes": [],
            "_model_module": "@jupyter-widgets/controls",
            "_model_module_version": "1.5.0",
            "_model_name": "HTMLModel",
            "_view_count": null,
            "_view_module": "@jupyter-widgets/controls",
            "_view_module_version": "1.5.0",
            "_view_name": "HTMLView",
            "description": "",
            "description_tooltip": null,
            "layout": "IPY_MODEL_5c3b3f514589448ca628c2a9f4f2f854",
            "placeholder": "​",
            "style": "IPY_MODEL_4b3e313d7b8b47e3a2eb38e864669305",
            "value": "Training Epoch 2: 100%"
          }
        },
        "f0b49970d27c4e5197256d5a70a0aa89": {
          "model_module": "@jupyter-widgets/controls",
          "model_name": "FloatProgressModel",
          "model_module_version": "1.5.0",
          "state": {
            "_dom_classes": [],
            "_model_module": "@jupyter-widgets/controls",
            "_model_module_version": "1.5.0",
            "_model_name": "FloatProgressModel",
            "_view_count": null,
            "_view_module": "@jupyter-widgets/controls",
            "_view_module_version": "1.5.0",
            "_view_name": "ProgressView",
            "bar_style": "success",
            "description": "",
            "description_tooltip": null,
            "layout": "IPY_MODEL_4c75cdb6bc5644098cff419d04e6b811",
            "max": 984,
            "min": 0,
            "orientation": "horizontal",
            "style": "IPY_MODEL_8bab415937bf4c589802914163cc7fb8",
            "value": 984
          }
        },
        "915799adf77744628d58d5a0fa50e7d5": {
          "model_module": "@jupyter-widgets/controls",
          "model_name": "HTMLModel",
          "model_module_version": "1.5.0",
          "state": {
            "_dom_classes": [],
            "_model_module": "@jupyter-widgets/controls",
            "_model_module_version": "1.5.0",
            "_model_name": "HTMLModel",
            "_view_count": null,
            "_view_module": "@jupyter-widgets/controls",
            "_view_module_version": "1.5.0",
            "_view_name": "HTMLView",
            "description": "",
            "description_tooltip": null,
            "layout": "IPY_MODEL_ac297ed3917341a3bfbd9b9508835f5d",
            "placeholder": "​",
            "style": "IPY_MODEL_04157957733f44d589d4002771374492",
            "value": " 984/984 [05:52&lt;00:00,  2.80it/s]"
          }
        },
        "99dab1e26e8647cfaa29ba6a8a056211": {
          "model_module": "@jupyter-widgets/base",
          "model_name": "LayoutModel",
          "model_module_version": "1.2.0",
          "state": {
            "_model_module": "@jupyter-widgets/base",
            "_model_module_version": "1.2.0",
            "_model_name": "LayoutModel",
            "_view_count": null,
            "_view_module": "@jupyter-widgets/base",
            "_view_module_version": "1.2.0",
            "_view_name": "LayoutView",
            "align_content": null,
            "align_items": null,
            "align_self": null,
            "border": null,
            "bottom": null,
            "display": null,
            "flex": null,
            "flex_flow": null,
            "grid_area": null,
            "grid_auto_columns": null,
            "grid_auto_flow": null,
            "grid_auto_rows": null,
            "grid_column": null,
            "grid_gap": null,
            "grid_row": null,
            "grid_template_areas": null,
            "grid_template_columns": null,
            "grid_template_rows": null,
            "height": null,
            "justify_content": null,
            "justify_items": null,
            "left": null,
            "margin": null,
            "max_height": null,
            "max_width": null,
            "min_height": null,
            "min_width": null,
            "object_fit": null,
            "object_position": null,
            "order": null,
            "overflow": null,
            "overflow_x": null,
            "overflow_y": null,
            "padding": null,
            "right": null,
            "top": null,
            "visibility": null,
            "width": null
          }
        },
        "5c3b3f514589448ca628c2a9f4f2f854": {
          "model_module": "@jupyter-widgets/base",
          "model_name": "LayoutModel",
          "model_module_version": "1.2.0",
          "state": {
            "_model_module": "@jupyter-widgets/base",
            "_model_module_version": "1.2.0",
            "_model_name": "LayoutModel",
            "_view_count": null,
            "_view_module": "@jupyter-widgets/base",
            "_view_module_version": "1.2.0",
            "_view_name": "LayoutView",
            "align_content": null,
            "align_items": null,
            "align_self": null,
            "border": null,
            "bottom": null,
            "display": null,
            "flex": null,
            "flex_flow": null,
            "grid_area": null,
            "grid_auto_columns": null,
            "grid_auto_flow": null,
            "grid_auto_rows": null,
            "grid_column": null,
            "grid_gap": null,
            "grid_row": null,
            "grid_template_areas": null,
            "grid_template_columns": null,
            "grid_template_rows": null,
            "height": null,
            "justify_content": null,
            "justify_items": null,
            "left": null,
            "margin": null,
            "max_height": null,
            "max_width": null,
            "min_height": null,
            "min_width": null,
            "object_fit": null,
            "object_position": null,
            "order": null,
            "overflow": null,
            "overflow_x": null,
            "overflow_y": null,
            "padding": null,
            "right": null,
            "top": null,
            "visibility": null,
            "width": null
          }
        },
        "4b3e313d7b8b47e3a2eb38e864669305": {
          "model_module": "@jupyter-widgets/controls",
          "model_name": "DescriptionStyleModel",
          "model_module_version": "1.5.0",
          "state": {
            "_model_module": "@jupyter-widgets/controls",
            "_model_module_version": "1.5.0",
            "_model_name": "DescriptionStyleModel",
            "_view_count": null,
            "_view_module": "@jupyter-widgets/base",
            "_view_module_version": "1.2.0",
            "_view_name": "StyleView",
            "description_width": ""
          }
        },
        "4c75cdb6bc5644098cff419d04e6b811": {
          "model_module": "@jupyter-widgets/base",
          "model_name": "LayoutModel",
          "model_module_version": "1.2.0",
          "state": {
            "_model_module": "@jupyter-widgets/base",
            "_model_module_version": "1.2.0",
            "_model_name": "LayoutModel",
            "_view_count": null,
            "_view_module": "@jupyter-widgets/base",
            "_view_module_version": "1.2.0",
            "_view_name": "LayoutView",
            "align_content": null,
            "align_items": null,
            "align_self": null,
            "border": null,
            "bottom": null,
            "display": null,
            "flex": null,
            "flex_flow": null,
            "grid_area": null,
            "grid_auto_columns": null,
            "grid_auto_flow": null,
            "grid_auto_rows": null,
            "grid_column": null,
            "grid_gap": null,
            "grid_row": null,
            "grid_template_areas": null,
            "grid_template_columns": null,
            "grid_template_rows": null,
            "height": null,
            "justify_content": null,
            "justify_items": null,
            "left": null,
            "margin": null,
            "max_height": null,
            "max_width": null,
            "min_height": null,
            "min_width": null,
            "object_fit": null,
            "object_position": null,
            "order": null,
            "overflow": null,
            "overflow_x": null,
            "overflow_y": null,
            "padding": null,
            "right": null,
            "top": null,
            "visibility": null,
            "width": null
          }
        },
        "8bab415937bf4c589802914163cc7fb8": {
          "model_module": "@jupyter-widgets/controls",
          "model_name": "ProgressStyleModel",
          "model_module_version": "1.5.0",
          "state": {
            "_model_module": "@jupyter-widgets/controls",
            "_model_module_version": "1.5.0",
            "_model_name": "ProgressStyleModel",
            "_view_count": null,
            "_view_module": "@jupyter-widgets/base",
            "_view_module_version": "1.2.0",
            "_view_name": "StyleView",
            "bar_color": null,
            "description_width": ""
          }
        },
        "ac297ed3917341a3bfbd9b9508835f5d": {
          "model_module": "@jupyter-widgets/base",
          "model_name": "LayoutModel",
          "model_module_version": "1.2.0",
          "state": {
            "_model_module": "@jupyter-widgets/base",
            "_model_module_version": "1.2.0",
            "_model_name": "LayoutModel",
            "_view_count": null,
            "_view_module": "@jupyter-widgets/base",
            "_view_module_version": "1.2.0",
            "_view_name": "LayoutView",
            "align_content": null,
            "align_items": null,
            "align_self": null,
            "border": null,
            "bottom": null,
            "display": null,
            "flex": null,
            "flex_flow": null,
            "grid_area": null,
            "grid_auto_columns": null,
            "grid_auto_flow": null,
            "grid_auto_rows": null,
            "grid_column": null,
            "grid_gap": null,
            "grid_row": null,
            "grid_template_areas": null,
            "grid_template_columns": null,
            "grid_template_rows": null,
            "height": null,
            "justify_content": null,
            "justify_items": null,
            "left": null,
            "margin": null,
            "max_height": null,
            "max_width": null,
            "min_height": null,
            "min_width": null,
            "object_fit": null,
            "object_position": null,
            "order": null,
            "overflow": null,
            "overflow_x": null,
            "overflow_y": null,
            "padding": null,
            "right": null,
            "top": null,
            "visibility": null,
            "width": null
          }
        },
        "04157957733f44d589d4002771374492": {
          "model_module": "@jupyter-widgets/controls",
          "model_name": "DescriptionStyleModel",
          "model_module_version": "1.5.0",
          "state": {
            "_model_module": "@jupyter-widgets/controls",
            "_model_module_version": "1.5.0",
            "_model_name": "DescriptionStyleModel",
            "_view_count": null,
            "_view_module": "@jupyter-widgets/base",
            "_view_module_version": "1.2.0",
            "_view_name": "StyleView",
            "description_width": ""
          }
        },
        "c26f0fd3e23e43388a8f26ced5b67c93": {
          "model_module": "@jupyter-widgets/controls",
          "model_name": "HBoxModel",
          "model_module_version": "1.5.0",
          "state": {
            "_dom_classes": [],
            "_model_module": "@jupyter-widgets/controls",
            "_model_module_version": "1.5.0",
            "_model_name": "HBoxModel",
            "_view_count": null,
            "_view_module": "@jupyter-widgets/controls",
            "_view_module_version": "1.5.0",
            "_view_name": "HBoxView",
            "box_style": "",
            "children": [
              "IPY_MODEL_433dcb6113cf4651aa6bb86ded92c8f3",
              "IPY_MODEL_a60c00fff69a4f74924aab961a9f51f7",
              "IPY_MODEL_70936379b9164f4890d85f2638f15ddd"
            ],
            "layout": "IPY_MODEL_a74928eb67cd40f783029bc5173a8a2b"
          }
        },
        "433dcb6113cf4651aa6bb86ded92c8f3": {
          "model_module": "@jupyter-widgets/controls",
          "model_name": "HTMLModel",
          "model_module_version": "1.5.0",
          "state": {
            "_dom_classes": [],
            "_model_module": "@jupyter-widgets/controls",
            "_model_module_version": "1.5.0",
            "_model_name": "HTMLModel",
            "_view_count": null,
            "_view_module": "@jupyter-widgets/controls",
            "_view_module_version": "1.5.0",
            "_view_name": "HTMLView",
            "description": "",
            "description_tooltip": null,
            "layout": "IPY_MODEL_dbf0359f6fa849f1ad04acf3f67624db",
            "placeholder": "​",
            "style": "IPY_MODEL_9718fa6f6b5f48c29dd13de8bb5b149f",
            "value": "Validating Epoch 2: 100%"
          }
        },
        "a60c00fff69a4f74924aab961a9f51f7": {
          "model_module": "@jupyter-widgets/controls",
          "model_name": "FloatProgressModel",
          "model_module_version": "1.5.0",
          "state": {
            "_dom_classes": [],
            "_model_module": "@jupyter-widgets/controls",
            "_model_module_version": "1.5.0",
            "_model_name": "FloatProgressModel",
            "_view_count": null,
            "_view_module": "@jupyter-widgets/controls",
            "_view_module_version": "1.5.0",
            "_view_name": "ProgressView",
            "bar_style": "success",
            "description": "",
            "description_tooltip": null,
            "layout": "IPY_MODEL_55fa3b569cf045558745a6b6c64aa5a6",
            "max": 328,
            "min": 0,
            "orientation": "horizontal",
            "style": "IPY_MODEL_75dff9e01bb046949b5e42cf057acd76",
            "value": 328
          }
        },
        "70936379b9164f4890d85f2638f15ddd": {
          "model_module": "@jupyter-widgets/controls",
          "model_name": "HTMLModel",
          "model_module_version": "1.5.0",
          "state": {
            "_dom_classes": [],
            "_model_module": "@jupyter-widgets/controls",
            "_model_module_version": "1.5.0",
            "_model_name": "HTMLModel",
            "_view_count": null,
            "_view_module": "@jupyter-widgets/controls",
            "_view_module_version": "1.5.0",
            "_view_name": "HTMLView",
            "description": "",
            "description_tooltip": null,
            "layout": "IPY_MODEL_a20520ef09f14ad2bdd4936cafac0b3a",
            "placeholder": "​",
            "style": "IPY_MODEL_0bdf00ccd58c494fa9d0ac30633b6bca",
            "value": " 328/328 [00:35&lt;00:00,  9.34it/s]"
          }
        },
        "a74928eb67cd40f783029bc5173a8a2b": {
          "model_module": "@jupyter-widgets/base",
          "model_name": "LayoutModel",
          "model_module_version": "1.2.0",
          "state": {
            "_model_module": "@jupyter-widgets/base",
            "_model_module_version": "1.2.0",
            "_model_name": "LayoutModel",
            "_view_count": null,
            "_view_module": "@jupyter-widgets/base",
            "_view_module_version": "1.2.0",
            "_view_name": "LayoutView",
            "align_content": null,
            "align_items": null,
            "align_self": null,
            "border": null,
            "bottom": null,
            "display": null,
            "flex": null,
            "flex_flow": null,
            "grid_area": null,
            "grid_auto_columns": null,
            "grid_auto_flow": null,
            "grid_auto_rows": null,
            "grid_column": null,
            "grid_gap": null,
            "grid_row": null,
            "grid_template_areas": null,
            "grid_template_columns": null,
            "grid_template_rows": null,
            "height": null,
            "justify_content": null,
            "justify_items": null,
            "left": null,
            "margin": null,
            "max_height": null,
            "max_width": null,
            "min_height": null,
            "min_width": null,
            "object_fit": null,
            "object_position": null,
            "order": null,
            "overflow": null,
            "overflow_x": null,
            "overflow_y": null,
            "padding": null,
            "right": null,
            "top": null,
            "visibility": null,
            "width": null
          }
        },
        "dbf0359f6fa849f1ad04acf3f67624db": {
          "model_module": "@jupyter-widgets/base",
          "model_name": "LayoutModel",
          "model_module_version": "1.2.0",
          "state": {
            "_model_module": "@jupyter-widgets/base",
            "_model_module_version": "1.2.0",
            "_model_name": "LayoutModel",
            "_view_count": null,
            "_view_module": "@jupyter-widgets/base",
            "_view_module_version": "1.2.0",
            "_view_name": "LayoutView",
            "align_content": null,
            "align_items": null,
            "align_self": null,
            "border": null,
            "bottom": null,
            "display": null,
            "flex": null,
            "flex_flow": null,
            "grid_area": null,
            "grid_auto_columns": null,
            "grid_auto_flow": null,
            "grid_auto_rows": null,
            "grid_column": null,
            "grid_gap": null,
            "grid_row": null,
            "grid_template_areas": null,
            "grid_template_columns": null,
            "grid_template_rows": null,
            "height": null,
            "justify_content": null,
            "justify_items": null,
            "left": null,
            "margin": null,
            "max_height": null,
            "max_width": null,
            "min_height": null,
            "min_width": null,
            "object_fit": null,
            "object_position": null,
            "order": null,
            "overflow": null,
            "overflow_x": null,
            "overflow_y": null,
            "padding": null,
            "right": null,
            "top": null,
            "visibility": null,
            "width": null
          }
        },
        "9718fa6f6b5f48c29dd13de8bb5b149f": {
          "model_module": "@jupyter-widgets/controls",
          "model_name": "DescriptionStyleModel",
          "model_module_version": "1.5.0",
          "state": {
            "_model_module": "@jupyter-widgets/controls",
            "_model_module_version": "1.5.0",
            "_model_name": "DescriptionStyleModel",
            "_view_count": null,
            "_view_module": "@jupyter-widgets/base",
            "_view_module_version": "1.2.0",
            "_view_name": "StyleView",
            "description_width": ""
          }
        },
        "55fa3b569cf045558745a6b6c64aa5a6": {
          "model_module": "@jupyter-widgets/base",
          "model_name": "LayoutModel",
          "model_module_version": "1.2.0",
          "state": {
            "_model_module": "@jupyter-widgets/base",
            "_model_module_version": "1.2.0",
            "_model_name": "LayoutModel",
            "_view_count": null,
            "_view_module": "@jupyter-widgets/base",
            "_view_module_version": "1.2.0",
            "_view_name": "LayoutView",
            "align_content": null,
            "align_items": null,
            "align_self": null,
            "border": null,
            "bottom": null,
            "display": null,
            "flex": null,
            "flex_flow": null,
            "grid_area": null,
            "grid_auto_columns": null,
            "grid_auto_flow": null,
            "grid_auto_rows": null,
            "grid_column": null,
            "grid_gap": null,
            "grid_row": null,
            "grid_template_areas": null,
            "grid_template_columns": null,
            "grid_template_rows": null,
            "height": null,
            "justify_content": null,
            "justify_items": null,
            "left": null,
            "margin": null,
            "max_height": null,
            "max_width": null,
            "min_height": null,
            "min_width": null,
            "object_fit": null,
            "object_position": null,
            "order": null,
            "overflow": null,
            "overflow_x": null,
            "overflow_y": null,
            "padding": null,
            "right": null,
            "top": null,
            "visibility": null,
            "width": null
          }
        },
        "75dff9e01bb046949b5e42cf057acd76": {
          "model_module": "@jupyter-widgets/controls",
          "model_name": "ProgressStyleModel",
          "model_module_version": "1.5.0",
          "state": {
            "_model_module": "@jupyter-widgets/controls",
            "_model_module_version": "1.5.0",
            "_model_name": "ProgressStyleModel",
            "_view_count": null,
            "_view_module": "@jupyter-widgets/base",
            "_view_module_version": "1.2.0",
            "_view_name": "StyleView",
            "bar_color": null,
            "description_width": ""
          }
        },
        "a20520ef09f14ad2bdd4936cafac0b3a": {
          "model_module": "@jupyter-widgets/base",
          "model_name": "LayoutModel",
          "model_module_version": "1.2.0",
          "state": {
            "_model_module": "@jupyter-widgets/base",
            "_model_module_version": "1.2.0",
            "_model_name": "LayoutModel",
            "_view_count": null,
            "_view_module": "@jupyter-widgets/base",
            "_view_module_version": "1.2.0",
            "_view_name": "LayoutView",
            "align_content": null,
            "align_items": null,
            "align_self": null,
            "border": null,
            "bottom": null,
            "display": null,
            "flex": null,
            "flex_flow": null,
            "grid_area": null,
            "grid_auto_columns": null,
            "grid_auto_flow": null,
            "grid_auto_rows": null,
            "grid_column": null,
            "grid_gap": null,
            "grid_row": null,
            "grid_template_areas": null,
            "grid_template_columns": null,
            "grid_template_rows": null,
            "height": null,
            "justify_content": null,
            "justify_items": null,
            "left": null,
            "margin": null,
            "max_height": null,
            "max_width": null,
            "min_height": null,
            "min_width": null,
            "object_fit": null,
            "object_position": null,
            "order": null,
            "overflow": null,
            "overflow_x": null,
            "overflow_y": null,
            "padding": null,
            "right": null,
            "top": null,
            "visibility": null,
            "width": null
          }
        },
        "0bdf00ccd58c494fa9d0ac30633b6bca": {
          "model_module": "@jupyter-widgets/controls",
          "model_name": "DescriptionStyleModel",
          "model_module_version": "1.5.0",
          "state": {
            "_model_module": "@jupyter-widgets/controls",
            "_model_module_version": "1.5.0",
            "_model_name": "DescriptionStyleModel",
            "_view_count": null,
            "_view_module": "@jupyter-widgets/base",
            "_view_module_version": "1.2.0",
            "_view_name": "StyleView",
            "description_width": ""
          }
        },
        "1656de672ee94d4ab2f29583b0ef357b": {
          "model_module": "@jupyter-widgets/controls",
          "model_name": "HBoxModel",
          "model_module_version": "1.5.0",
          "state": {
            "_dom_classes": [],
            "_model_module": "@jupyter-widgets/controls",
            "_model_module_version": "1.5.0",
            "_model_name": "HBoxModel",
            "_view_count": null,
            "_view_module": "@jupyter-widgets/controls",
            "_view_module_version": "1.5.0",
            "_view_name": "HBoxView",
            "box_style": "",
            "children": [
              "IPY_MODEL_0756d39946c94c1cb520acc5d7903336",
              "IPY_MODEL_89d643dcce7a45fea448d9cd57ab3ce6",
              "IPY_MODEL_7543aa96d0e643a0b92510e6b93cb538"
            ],
            "layout": "IPY_MODEL_302e46232b0946dc81d6e06e95d51f8a"
          }
        },
        "0756d39946c94c1cb520acc5d7903336": {
          "model_module": "@jupyter-widgets/controls",
          "model_name": "HTMLModel",
          "model_module_version": "1.5.0",
          "state": {
            "_dom_classes": [],
            "_model_module": "@jupyter-widgets/controls",
            "_model_module_version": "1.5.0",
            "_model_name": "HTMLModel",
            "_view_count": null,
            "_view_module": "@jupyter-widgets/controls",
            "_view_module_version": "1.5.0",
            "_view_name": "HTMLView",
            "description": "",
            "description_tooltip": null,
            "layout": "IPY_MODEL_0d4af7c3edc040de980d2a40ee635535",
            "placeholder": "​",
            "style": "IPY_MODEL_2ba08db8df8f4f159bf58df00b987d16",
            "value": "Training Epoch 3: 100%"
          }
        },
        "89d643dcce7a45fea448d9cd57ab3ce6": {
          "model_module": "@jupyter-widgets/controls",
          "model_name": "FloatProgressModel",
          "model_module_version": "1.5.0",
          "state": {
            "_dom_classes": [],
            "_model_module": "@jupyter-widgets/controls",
            "_model_module_version": "1.5.0",
            "_model_name": "FloatProgressModel",
            "_view_count": null,
            "_view_module": "@jupyter-widgets/controls",
            "_view_module_version": "1.5.0",
            "_view_name": "ProgressView",
            "bar_style": "success",
            "description": "",
            "description_tooltip": null,
            "layout": "IPY_MODEL_beec23e8468242068cbc4c69bebebcdc",
            "max": 984,
            "min": 0,
            "orientation": "horizontal",
            "style": "IPY_MODEL_5064b5e4edde43cd8c37843b3ef954d1",
            "value": 984
          }
        },
        "7543aa96d0e643a0b92510e6b93cb538": {
          "model_module": "@jupyter-widgets/controls",
          "model_name": "HTMLModel",
          "model_module_version": "1.5.0",
          "state": {
            "_dom_classes": [],
            "_model_module": "@jupyter-widgets/controls",
            "_model_module_version": "1.5.0",
            "_model_name": "HTMLModel",
            "_view_count": null,
            "_view_module": "@jupyter-widgets/controls",
            "_view_module_version": "1.5.0",
            "_view_name": "HTMLView",
            "description": "",
            "description_tooltip": null,
            "layout": "IPY_MODEL_7b0366ec7ac64cb08856d192644dd55a",
            "placeholder": "​",
            "style": "IPY_MODEL_182287a2043048918ee7a9cdf28e5228",
            "value": " 984/984 [05:52&lt;00:00,  2.79it/s]"
          }
        },
        "302e46232b0946dc81d6e06e95d51f8a": {
          "model_module": "@jupyter-widgets/base",
          "model_name": "LayoutModel",
          "model_module_version": "1.2.0",
          "state": {
            "_model_module": "@jupyter-widgets/base",
            "_model_module_version": "1.2.0",
            "_model_name": "LayoutModel",
            "_view_count": null,
            "_view_module": "@jupyter-widgets/base",
            "_view_module_version": "1.2.0",
            "_view_name": "LayoutView",
            "align_content": null,
            "align_items": null,
            "align_self": null,
            "border": null,
            "bottom": null,
            "display": null,
            "flex": null,
            "flex_flow": null,
            "grid_area": null,
            "grid_auto_columns": null,
            "grid_auto_flow": null,
            "grid_auto_rows": null,
            "grid_column": null,
            "grid_gap": null,
            "grid_row": null,
            "grid_template_areas": null,
            "grid_template_columns": null,
            "grid_template_rows": null,
            "height": null,
            "justify_content": null,
            "justify_items": null,
            "left": null,
            "margin": null,
            "max_height": null,
            "max_width": null,
            "min_height": null,
            "min_width": null,
            "object_fit": null,
            "object_position": null,
            "order": null,
            "overflow": null,
            "overflow_x": null,
            "overflow_y": null,
            "padding": null,
            "right": null,
            "top": null,
            "visibility": null,
            "width": null
          }
        },
        "0d4af7c3edc040de980d2a40ee635535": {
          "model_module": "@jupyter-widgets/base",
          "model_name": "LayoutModel",
          "model_module_version": "1.2.0",
          "state": {
            "_model_module": "@jupyter-widgets/base",
            "_model_module_version": "1.2.0",
            "_model_name": "LayoutModel",
            "_view_count": null,
            "_view_module": "@jupyter-widgets/base",
            "_view_module_version": "1.2.0",
            "_view_name": "LayoutView",
            "align_content": null,
            "align_items": null,
            "align_self": null,
            "border": null,
            "bottom": null,
            "display": null,
            "flex": null,
            "flex_flow": null,
            "grid_area": null,
            "grid_auto_columns": null,
            "grid_auto_flow": null,
            "grid_auto_rows": null,
            "grid_column": null,
            "grid_gap": null,
            "grid_row": null,
            "grid_template_areas": null,
            "grid_template_columns": null,
            "grid_template_rows": null,
            "height": null,
            "justify_content": null,
            "justify_items": null,
            "left": null,
            "margin": null,
            "max_height": null,
            "max_width": null,
            "min_height": null,
            "min_width": null,
            "object_fit": null,
            "object_position": null,
            "order": null,
            "overflow": null,
            "overflow_x": null,
            "overflow_y": null,
            "padding": null,
            "right": null,
            "top": null,
            "visibility": null,
            "width": null
          }
        },
        "2ba08db8df8f4f159bf58df00b987d16": {
          "model_module": "@jupyter-widgets/controls",
          "model_name": "DescriptionStyleModel",
          "model_module_version": "1.5.0",
          "state": {
            "_model_module": "@jupyter-widgets/controls",
            "_model_module_version": "1.5.0",
            "_model_name": "DescriptionStyleModel",
            "_view_count": null,
            "_view_module": "@jupyter-widgets/base",
            "_view_module_version": "1.2.0",
            "_view_name": "StyleView",
            "description_width": ""
          }
        },
        "beec23e8468242068cbc4c69bebebcdc": {
          "model_module": "@jupyter-widgets/base",
          "model_name": "LayoutModel",
          "model_module_version": "1.2.0",
          "state": {
            "_model_module": "@jupyter-widgets/base",
            "_model_module_version": "1.2.0",
            "_model_name": "LayoutModel",
            "_view_count": null,
            "_view_module": "@jupyter-widgets/base",
            "_view_module_version": "1.2.0",
            "_view_name": "LayoutView",
            "align_content": null,
            "align_items": null,
            "align_self": null,
            "border": null,
            "bottom": null,
            "display": null,
            "flex": null,
            "flex_flow": null,
            "grid_area": null,
            "grid_auto_columns": null,
            "grid_auto_flow": null,
            "grid_auto_rows": null,
            "grid_column": null,
            "grid_gap": null,
            "grid_row": null,
            "grid_template_areas": null,
            "grid_template_columns": null,
            "grid_template_rows": null,
            "height": null,
            "justify_content": null,
            "justify_items": null,
            "left": null,
            "margin": null,
            "max_height": null,
            "max_width": null,
            "min_height": null,
            "min_width": null,
            "object_fit": null,
            "object_position": null,
            "order": null,
            "overflow": null,
            "overflow_x": null,
            "overflow_y": null,
            "padding": null,
            "right": null,
            "top": null,
            "visibility": null,
            "width": null
          }
        },
        "5064b5e4edde43cd8c37843b3ef954d1": {
          "model_module": "@jupyter-widgets/controls",
          "model_name": "ProgressStyleModel",
          "model_module_version": "1.5.0",
          "state": {
            "_model_module": "@jupyter-widgets/controls",
            "_model_module_version": "1.5.0",
            "_model_name": "ProgressStyleModel",
            "_view_count": null,
            "_view_module": "@jupyter-widgets/base",
            "_view_module_version": "1.2.0",
            "_view_name": "StyleView",
            "bar_color": null,
            "description_width": ""
          }
        },
        "7b0366ec7ac64cb08856d192644dd55a": {
          "model_module": "@jupyter-widgets/base",
          "model_name": "LayoutModel",
          "model_module_version": "1.2.0",
          "state": {
            "_model_module": "@jupyter-widgets/base",
            "_model_module_version": "1.2.0",
            "_model_name": "LayoutModel",
            "_view_count": null,
            "_view_module": "@jupyter-widgets/base",
            "_view_module_version": "1.2.0",
            "_view_name": "LayoutView",
            "align_content": null,
            "align_items": null,
            "align_self": null,
            "border": null,
            "bottom": null,
            "display": null,
            "flex": null,
            "flex_flow": null,
            "grid_area": null,
            "grid_auto_columns": null,
            "grid_auto_flow": null,
            "grid_auto_rows": null,
            "grid_column": null,
            "grid_gap": null,
            "grid_row": null,
            "grid_template_areas": null,
            "grid_template_columns": null,
            "grid_template_rows": null,
            "height": null,
            "justify_content": null,
            "justify_items": null,
            "left": null,
            "margin": null,
            "max_height": null,
            "max_width": null,
            "min_height": null,
            "min_width": null,
            "object_fit": null,
            "object_position": null,
            "order": null,
            "overflow": null,
            "overflow_x": null,
            "overflow_y": null,
            "padding": null,
            "right": null,
            "top": null,
            "visibility": null,
            "width": null
          }
        },
        "182287a2043048918ee7a9cdf28e5228": {
          "model_module": "@jupyter-widgets/controls",
          "model_name": "DescriptionStyleModel",
          "model_module_version": "1.5.0",
          "state": {
            "_model_module": "@jupyter-widgets/controls",
            "_model_module_version": "1.5.0",
            "_model_name": "DescriptionStyleModel",
            "_view_count": null,
            "_view_module": "@jupyter-widgets/base",
            "_view_module_version": "1.2.0",
            "_view_name": "StyleView",
            "description_width": ""
          }
        },
        "2bf6fcda92474e5fa744e4cd3d38d717": {
          "model_module": "@jupyter-widgets/controls",
          "model_name": "HBoxModel",
          "model_module_version": "1.5.0",
          "state": {
            "_dom_classes": [],
            "_model_module": "@jupyter-widgets/controls",
            "_model_module_version": "1.5.0",
            "_model_name": "HBoxModel",
            "_view_count": null,
            "_view_module": "@jupyter-widgets/controls",
            "_view_module_version": "1.5.0",
            "_view_name": "HBoxView",
            "box_style": "",
            "children": [
              "IPY_MODEL_178c05ce97864512af198c443b012e9a",
              "IPY_MODEL_222b44918f5c4ca2b321fab20ab6bcc5",
              "IPY_MODEL_87cc29f6fb9346f18eaeb80fdf90a9e0"
            ],
            "layout": "IPY_MODEL_6ac2460c3c23434481e97122da00ad36"
          }
        },
        "178c05ce97864512af198c443b012e9a": {
          "model_module": "@jupyter-widgets/controls",
          "model_name": "HTMLModel",
          "model_module_version": "1.5.0",
          "state": {
            "_dom_classes": [],
            "_model_module": "@jupyter-widgets/controls",
            "_model_module_version": "1.5.0",
            "_model_name": "HTMLModel",
            "_view_count": null,
            "_view_module": "@jupyter-widgets/controls",
            "_view_module_version": "1.5.0",
            "_view_name": "HTMLView",
            "description": "",
            "description_tooltip": null,
            "layout": "IPY_MODEL_b3a19e5b13f84bdd9906efe2988edbbf",
            "placeholder": "​",
            "style": "IPY_MODEL_a22b415fe7334ba289cd33c1caf8f3b5",
            "value": "Validating Epoch 3: 100%"
          }
        },
        "222b44918f5c4ca2b321fab20ab6bcc5": {
          "model_module": "@jupyter-widgets/controls",
          "model_name": "FloatProgressModel",
          "model_module_version": "1.5.0",
          "state": {
            "_dom_classes": [],
            "_model_module": "@jupyter-widgets/controls",
            "_model_module_version": "1.5.0",
            "_model_name": "FloatProgressModel",
            "_view_count": null,
            "_view_module": "@jupyter-widgets/controls",
            "_view_module_version": "1.5.0",
            "_view_name": "ProgressView",
            "bar_style": "success",
            "description": "",
            "description_tooltip": null,
            "layout": "IPY_MODEL_9b9c6fc22cc145bea619c07254c5e761",
            "max": 328,
            "min": 0,
            "orientation": "horizontal",
            "style": "IPY_MODEL_ab122f308df54b85a863fa70d9ea2f6d",
            "value": 328
          }
        },
        "87cc29f6fb9346f18eaeb80fdf90a9e0": {
          "model_module": "@jupyter-widgets/controls",
          "model_name": "HTMLModel",
          "model_module_version": "1.5.0",
          "state": {
            "_dom_classes": [],
            "_model_module": "@jupyter-widgets/controls",
            "_model_module_version": "1.5.0",
            "_model_name": "HTMLModel",
            "_view_count": null,
            "_view_module": "@jupyter-widgets/controls",
            "_view_module_version": "1.5.0",
            "_view_name": "HTMLView",
            "description": "",
            "description_tooltip": null,
            "layout": "IPY_MODEL_adb894dc25114d838b5ba6e130a5a1c3",
            "placeholder": "​",
            "style": "IPY_MODEL_eb6b9eadf7cf42f8990e7806f72171fa",
            "value": " 328/328 [00:35&lt;00:00,  9.33it/s]"
          }
        },
        "6ac2460c3c23434481e97122da00ad36": {
          "model_module": "@jupyter-widgets/base",
          "model_name": "LayoutModel",
          "model_module_version": "1.2.0",
          "state": {
            "_model_module": "@jupyter-widgets/base",
            "_model_module_version": "1.2.0",
            "_model_name": "LayoutModel",
            "_view_count": null,
            "_view_module": "@jupyter-widgets/base",
            "_view_module_version": "1.2.0",
            "_view_name": "LayoutView",
            "align_content": null,
            "align_items": null,
            "align_self": null,
            "border": null,
            "bottom": null,
            "display": null,
            "flex": null,
            "flex_flow": null,
            "grid_area": null,
            "grid_auto_columns": null,
            "grid_auto_flow": null,
            "grid_auto_rows": null,
            "grid_column": null,
            "grid_gap": null,
            "grid_row": null,
            "grid_template_areas": null,
            "grid_template_columns": null,
            "grid_template_rows": null,
            "height": null,
            "justify_content": null,
            "justify_items": null,
            "left": null,
            "margin": null,
            "max_height": null,
            "max_width": null,
            "min_height": null,
            "min_width": null,
            "object_fit": null,
            "object_position": null,
            "order": null,
            "overflow": null,
            "overflow_x": null,
            "overflow_y": null,
            "padding": null,
            "right": null,
            "top": null,
            "visibility": null,
            "width": null
          }
        },
        "b3a19e5b13f84bdd9906efe2988edbbf": {
          "model_module": "@jupyter-widgets/base",
          "model_name": "LayoutModel",
          "model_module_version": "1.2.0",
          "state": {
            "_model_module": "@jupyter-widgets/base",
            "_model_module_version": "1.2.0",
            "_model_name": "LayoutModel",
            "_view_count": null,
            "_view_module": "@jupyter-widgets/base",
            "_view_module_version": "1.2.0",
            "_view_name": "LayoutView",
            "align_content": null,
            "align_items": null,
            "align_self": null,
            "border": null,
            "bottom": null,
            "display": null,
            "flex": null,
            "flex_flow": null,
            "grid_area": null,
            "grid_auto_columns": null,
            "grid_auto_flow": null,
            "grid_auto_rows": null,
            "grid_column": null,
            "grid_gap": null,
            "grid_row": null,
            "grid_template_areas": null,
            "grid_template_columns": null,
            "grid_template_rows": null,
            "height": null,
            "justify_content": null,
            "justify_items": null,
            "left": null,
            "margin": null,
            "max_height": null,
            "max_width": null,
            "min_height": null,
            "min_width": null,
            "object_fit": null,
            "object_position": null,
            "order": null,
            "overflow": null,
            "overflow_x": null,
            "overflow_y": null,
            "padding": null,
            "right": null,
            "top": null,
            "visibility": null,
            "width": null
          }
        },
        "a22b415fe7334ba289cd33c1caf8f3b5": {
          "model_module": "@jupyter-widgets/controls",
          "model_name": "DescriptionStyleModel",
          "model_module_version": "1.5.0",
          "state": {
            "_model_module": "@jupyter-widgets/controls",
            "_model_module_version": "1.5.0",
            "_model_name": "DescriptionStyleModel",
            "_view_count": null,
            "_view_module": "@jupyter-widgets/base",
            "_view_module_version": "1.2.0",
            "_view_name": "StyleView",
            "description_width": ""
          }
        },
        "9b9c6fc22cc145bea619c07254c5e761": {
          "model_module": "@jupyter-widgets/base",
          "model_name": "LayoutModel",
          "model_module_version": "1.2.0",
          "state": {
            "_model_module": "@jupyter-widgets/base",
            "_model_module_version": "1.2.0",
            "_model_name": "LayoutModel",
            "_view_count": null,
            "_view_module": "@jupyter-widgets/base",
            "_view_module_version": "1.2.0",
            "_view_name": "LayoutView",
            "align_content": null,
            "align_items": null,
            "align_self": null,
            "border": null,
            "bottom": null,
            "display": null,
            "flex": null,
            "flex_flow": null,
            "grid_area": null,
            "grid_auto_columns": null,
            "grid_auto_flow": null,
            "grid_auto_rows": null,
            "grid_column": null,
            "grid_gap": null,
            "grid_row": null,
            "grid_template_areas": null,
            "grid_template_columns": null,
            "grid_template_rows": null,
            "height": null,
            "justify_content": null,
            "justify_items": null,
            "left": null,
            "margin": null,
            "max_height": null,
            "max_width": null,
            "min_height": null,
            "min_width": null,
            "object_fit": null,
            "object_position": null,
            "order": null,
            "overflow": null,
            "overflow_x": null,
            "overflow_y": null,
            "padding": null,
            "right": null,
            "top": null,
            "visibility": null,
            "width": null
          }
        },
        "ab122f308df54b85a863fa70d9ea2f6d": {
          "model_module": "@jupyter-widgets/controls",
          "model_name": "ProgressStyleModel",
          "model_module_version": "1.5.0",
          "state": {
            "_model_module": "@jupyter-widgets/controls",
            "_model_module_version": "1.5.0",
            "_model_name": "ProgressStyleModel",
            "_view_count": null,
            "_view_module": "@jupyter-widgets/base",
            "_view_module_version": "1.2.0",
            "_view_name": "StyleView",
            "bar_color": null,
            "description_width": ""
          }
        },
        "adb894dc25114d838b5ba6e130a5a1c3": {
          "model_module": "@jupyter-widgets/base",
          "model_name": "LayoutModel",
          "model_module_version": "1.2.0",
          "state": {
            "_model_module": "@jupyter-widgets/base",
            "_model_module_version": "1.2.0",
            "_model_name": "LayoutModel",
            "_view_count": null,
            "_view_module": "@jupyter-widgets/base",
            "_view_module_version": "1.2.0",
            "_view_name": "LayoutView",
            "align_content": null,
            "align_items": null,
            "align_self": null,
            "border": null,
            "bottom": null,
            "display": null,
            "flex": null,
            "flex_flow": null,
            "grid_area": null,
            "grid_auto_columns": null,
            "grid_auto_flow": null,
            "grid_auto_rows": null,
            "grid_column": null,
            "grid_gap": null,
            "grid_row": null,
            "grid_template_areas": null,
            "grid_template_columns": null,
            "grid_template_rows": null,
            "height": null,
            "justify_content": null,
            "justify_items": null,
            "left": null,
            "margin": null,
            "max_height": null,
            "max_width": null,
            "min_height": null,
            "min_width": null,
            "object_fit": null,
            "object_position": null,
            "order": null,
            "overflow": null,
            "overflow_x": null,
            "overflow_y": null,
            "padding": null,
            "right": null,
            "top": null,
            "visibility": null,
            "width": null
          }
        },
        "eb6b9eadf7cf42f8990e7806f72171fa": {
          "model_module": "@jupyter-widgets/controls",
          "model_name": "DescriptionStyleModel",
          "model_module_version": "1.5.0",
          "state": {
            "_model_module": "@jupyter-widgets/controls",
            "_model_module_version": "1.5.0",
            "_model_name": "DescriptionStyleModel",
            "_view_count": null,
            "_view_module": "@jupyter-widgets/base",
            "_view_module_version": "1.2.0",
            "_view_name": "StyleView",
            "description_width": ""
          }
        },
        "027b59bb9b4841aeb9693bce2c214e5a": {
          "model_module": "@jupyter-widgets/controls",
          "model_name": "HBoxModel",
          "model_module_version": "1.5.0",
          "state": {
            "_dom_classes": [],
            "_model_module": "@jupyter-widgets/controls",
            "_model_module_version": "1.5.0",
            "_model_name": "HBoxModel",
            "_view_count": null,
            "_view_module": "@jupyter-widgets/controls",
            "_view_module_version": "1.5.0",
            "_view_name": "HBoxView",
            "box_style": "",
            "children": [
              "IPY_MODEL_ece4aff19c454930a42eb84dc7a07a08",
              "IPY_MODEL_4b0c8968347e4de48df1829a1f73a5d1",
              "IPY_MODEL_03f5a0e482fc4cb99eb7b438d9f8fe38"
            ],
            "layout": "IPY_MODEL_56b062c2d16d4eafa0c3421498feeb34"
          }
        },
        "ece4aff19c454930a42eb84dc7a07a08": {
          "model_module": "@jupyter-widgets/controls",
          "model_name": "HTMLModel",
          "model_module_version": "1.5.0",
          "state": {
            "_dom_classes": [],
            "_model_module": "@jupyter-widgets/controls",
            "_model_module_version": "1.5.0",
            "_model_name": "HTMLModel",
            "_view_count": null,
            "_view_module": "@jupyter-widgets/controls",
            "_view_module_version": "1.5.0",
            "_view_name": "HTMLView",
            "description": "",
            "description_tooltip": null,
            "layout": "IPY_MODEL_4ff99fde19e7493c945ee37889fd74c0",
            "placeholder": "​",
            "style": "IPY_MODEL_5368e0cd4279404585c73935ef093b02",
            "value": "Training Epoch 4: 100%"
          }
        },
        "4b0c8968347e4de48df1829a1f73a5d1": {
          "model_module": "@jupyter-widgets/controls",
          "model_name": "FloatProgressModel",
          "model_module_version": "1.5.0",
          "state": {
            "_dom_classes": [],
            "_model_module": "@jupyter-widgets/controls",
            "_model_module_version": "1.5.0",
            "_model_name": "FloatProgressModel",
            "_view_count": null,
            "_view_module": "@jupyter-widgets/controls",
            "_view_module_version": "1.5.0",
            "_view_name": "ProgressView",
            "bar_style": "success",
            "description": "",
            "description_tooltip": null,
            "layout": "IPY_MODEL_15125a68a8d24c8192fbedde6073a99f",
            "max": 984,
            "min": 0,
            "orientation": "horizontal",
            "style": "IPY_MODEL_f738d05b47794fbea7a9d33d4d0d3f03",
            "value": 984
          }
        },
        "03f5a0e482fc4cb99eb7b438d9f8fe38": {
          "model_module": "@jupyter-widgets/controls",
          "model_name": "HTMLModel",
          "model_module_version": "1.5.0",
          "state": {
            "_dom_classes": [],
            "_model_module": "@jupyter-widgets/controls",
            "_model_module_version": "1.5.0",
            "_model_name": "HTMLModel",
            "_view_count": null,
            "_view_module": "@jupyter-widgets/controls",
            "_view_module_version": "1.5.0",
            "_view_name": "HTMLView",
            "description": "",
            "description_tooltip": null,
            "layout": "IPY_MODEL_c62df2d932064b809efc4194b026ddab",
            "placeholder": "​",
            "style": "IPY_MODEL_e9a3118acdfc46b4880786c6f3bf29ca",
            "value": " 984/984 [05:52&lt;00:00,  2.82it/s]"
          }
        },
        "56b062c2d16d4eafa0c3421498feeb34": {
          "model_module": "@jupyter-widgets/base",
          "model_name": "LayoutModel",
          "model_module_version": "1.2.0",
          "state": {
            "_model_module": "@jupyter-widgets/base",
            "_model_module_version": "1.2.0",
            "_model_name": "LayoutModel",
            "_view_count": null,
            "_view_module": "@jupyter-widgets/base",
            "_view_module_version": "1.2.0",
            "_view_name": "LayoutView",
            "align_content": null,
            "align_items": null,
            "align_self": null,
            "border": null,
            "bottom": null,
            "display": null,
            "flex": null,
            "flex_flow": null,
            "grid_area": null,
            "grid_auto_columns": null,
            "grid_auto_flow": null,
            "grid_auto_rows": null,
            "grid_column": null,
            "grid_gap": null,
            "grid_row": null,
            "grid_template_areas": null,
            "grid_template_columns": null,
            "grid_template_rows": null,
            "height": null,
            "justify_content": null,
            "justify_items": null,
            "left": null,
            "margin": null,
            "max_height": null,
            "max_width": null,
            "min_height": null,
            "min_width": null,
            "object_fit": null,
            "object_position": null,
            "order": null,
            "overflow": null,
            "overflow_x": null,
            "overflow_y": null,
            "padding": null,
            "right": null,
            "top": null,
            "visibility": null,
            "width": null
          }
        },
        "4ff99fde19e7493c945ee37889fd74c0": {
          "model_module": "@jupyter-widgets/base",
          "model_name": "LayoutModel",
          "model_module_version": "1.2.0",
          "state": {
            "_model_module": "@jupyter-widgets/base",
            "_model_module_version": "1.2.0",
            "_model_name": "LayoutModel",
            "_view_count": null,
            "_view_module": "@jupyter-widgets/base",
            "_view_module_version": "1.2.0",
            "_view_name": "LayoutView",
            "align_content": null,
            "align_items": null,
            "align_self": null,
            "border": null,
            "bottom": null,
            "display": null,
            "flex": null,
            "flex_flow": null,
            "grid_area": null,
            "grid_auto_columns": null,
            "grid_auto_flow": null,
            "grid_auto_rows": null,
            "grid_column": null,
            "grid_gap": null,
            "grid_row": null,
            "grid_template_areas": null,
            "grid_template_columns": null,
            "grid_template_rows": null,
            "height": null,
            "justify_content": null,
            "justify_items": null,
            "left": null,
            "margin": null,
            "max_height": null,
            "max_width": null,
            "min_height": null,
            "min_width": null,
            "object_fit": null,
            "object_position": null,
            "order": null,
            "overflow": null,
            "overflow_x": null,
            "overflow_y": null,
            "padding": null,
            "right": null,
            "top": null,
            "visibility": null,
            "width": null
          }
        },
        "5368e0cd4279404585c73935ef093b02": {
          "model_module": "@jupyter-widgets/controls",
          "model_name": "DescriptionStyleModel",
          "model_module_version": "1.5.0",
          "state": {
            "_model_module": "@jupyter-widgets/controls",
            "_model_module_version": "1.5.0",
            "_model_name": "DescriptionStyleModel",
            "_view_count": null,
            "_view_module": "@jupyter-widgets/base",
            "_view_module_version": "1.2.0",
            "_view_name": "StyleView",
            "description_width": ""
          }
        },
        "15125a68a8d24c8192fbedde6073a99f": {
          "model_module": "@jupyter-widgets/base",
          "model_name": "LayoutModel",
          "model_module_version": "1.2.0",
          "state": {
            "_model_module": "@jupyter-widgets/base",
            "_model_module_version": "1.2.0",
            "_model_name": "LayoutModel",
            "_view_count": null,
            "_view_module": "@jupyter-widgets/base",
            "_view_module_version": "1.2.0",
            "_view_name": "LayoutView",
            "align_content": null,
            "align_items": null,
            "align_self": null,
            "border": null,
            "bottom": null,
            "display": null,
            "flex": null,
            "flex_flow": null,
            "grid_area": null,
            "grid_auto_columns": null,
            "grid_auto_flow": null,
            "grid_auto_rows": null,
            "grid_column": null,
            "grid_gap": null,
            "grid_row": null,
            "grid_template_areas": null,
            "grid_template_columns": null,
            "grid_template_rows": null,
            "height": null,
            "justify_content": null,
            "justify_items": null,
            "left": null,
            "margin": null,
            "max_height": null,
            "max_width": null,
            "min_height": null,
            "min_width": null,
            "object_fit": null,
            "object_position": null,
            "order": null,
            "overflow": null,
            "overflow_x": null,
            "overflow_y": null,
            "padding": null,
            "right": null,
            "top": null,
            "visibility": null,
            "width": null
          }
        },
        "f738d05b47794fbea7a9d33d4d0d3f03": {
          "model_module": "@jupyter-widgets/controls",
          "model_name": "ProgressStyleModel",
          "model_module_version": "1.5.0",
          "state": {
            "_model_module": "@jupyter-widgets/controls",
            "_model_module_version": "1.5.0",
            "_model_name": "ProgressStyleModel",
            "_view_count": null,
            "_view_module": "@jupyter-widgets/base",
            "_view_module_version": "1.2.0",
            "_view_name": "StyleView",
            "bar_color": null,
            "description_width": ""
          }
        },
        "c62df2d932064b809efc4194b026ddab": {
          "model_module": "@jupyter-widgets/base",
          "model_name": "LayoutModel",
          "model_module_version": "1.2.0",
          "state": {
            "_model_module": "@jupyter-widgets/base",
            "_model_module_version": "1.2.0",
            "_model_name": "LayoutModel",
            "_view_count": null,
            "_view_module": "@jupyter-widgets/base",
            "_view_module_version": "1.2.0",
            "_view_name": "LayoutView",
            "align_content": null,
            "align_items": null,
            "align_self": null,
            "border": null,
            "bottom": null,
            "display": null,
            "flex": null,
            "flex_flow": null,
            "grid_area": null,
            "grid_auto_columns": null,
            "grid_auto_flow": null,
            "grid_auto_rows": null,
            "grid_column": null,
            "grid_gap": null,
            "grid_row": null,
            "grid_template_areas": null,
            "grid_template_columns": null,
            "grid_template_rows": null,
            "height": null,
            "justify_content": null,
            "justify_items": null,
            "left": null,
            "margin": null,
            "max_height": null,
            "max_width": null,
            "min_height": null,
            "min_width": null,
            "object_fit": null,
            "object_position": null,
            "order": null,
            "overflow": null,
            "overflow_x": null,
            "overflow_y": null,
            "padding": null,
            "right": null,
            "top": null,
            "visibility": null,
            "width": null
          }
        },
        "e9a3118acdfc46b4880786c6f3bf29ca": {
          "model_module": "@jupyter-widgets/controls",
          "model_name": "DescriptionStyleModel",
          "model_module_version": "1.5.0",
          "state": {
            "_model_module": "@jupyter-widgets/controls",
            "_model_module_version": "1.5.0",
            "_model_name": "DescriptionStyleModel",
            "_view_count": null,
            "_view_module": "@jupyter-widgets/base",
            "_view_module_version": "1.2.0",
            "_view_name": "StyleView",
            "description_width": ""
          }
        },
        "ef3736a31c054d0ba32dec6935c5c7ea": {
          "model_module": "@jupyter-widgets/controls",
          "model_name": "HBoxModel",
          "model_module_version": "1.5.0",
          "state": {
            "_dom_classes": [],
            "_model_module": "@jupyter-widgets/controls",
            "_model_module_version": "1.5.0",
            "_model_name": "HBoxModel",
            "_view_count": null,
            "_view_module": "@jupyter-widgets/controls",
            "_view_module_version": "1.5.0",
            "_view_name": "HBoxView",
            "box_style": "",
            "children": [
              "IPY_MODEL_4b6ca78f7ecb4f2bb59de5ff68b38d6b",
              "IPY_MODEL_a6e92ede93db4672976bdc64506e9080",
              "IPY_MODEL_9b5b3d5f75704063947123ecdabca600"
            ],
            "layout": "IPY_MODEL_1f373e8c96dd4f14a5130d8f285e73ca"
          }
        },
        "4b6ca78f7ecb4f2bb59de5ff68b38d6b": {
          "model_module": "@jupyter-widgets/controls",
          "model_name": "HTMLModel",
          "model_module_version": "1.5.0",
          "state": {
            "_dom_classes": [],
            "_model_module": "@jupyter-widgets/controls",
            "_model_module_version": "1.5.0",
            "_model_name": "HTMLModel",
            "_view_count": null,
            "_view_module": "@jupyter-widgets/controls",
            "_view_module_version": "1.5.0",
            "_view_name": "HTMLView",
            "description": "",
            "description_tooltip": null,
            "layout": "IPY_MODEL_cb294405ceda4ba19706953d4e5a82fa",
            "placeholder": "​",
            "style": "IPY_MODEL_26caab2638bd4b339dfddc87ebca3756",
            "value": "Validating Epoch 4: 100%"
          }
        },
        "a6e92ede93db4672976bdc64506e9080": {
          "model_module": "@jupyter-widgets/controls",
          "model_name": "FloatProgressModel",
          "model_module_version": "1.5.0",
          "state": {
            "_dom_classes": [],
            "_model_module": "@jupyter-widgets/controls",
            "_model_module_version": "1.5.0",
            "_model_name": "FloatProgressModel",
            "_view_count": null,
            "_view_module": "@jupyter-widgets/controls",
            "_view_module_version": "1.5.0",
            "_view_name": "ProgressView",
            "bar_style": "success",
            "description": "",
            "description_tooltip": null,
            "layout": "IPY_MODEL_153dfe7e51c149a6b3543912ed766bc0",
            "max": 328,
            "min": 0,
            "orientation": "horizontal",
            "style": "IPY_MODEL_d7dace637210481695420fc4571a202c",
            "value": 328
          }
        },
        "9b5b3d5f75704063947123ecdabca600": {
          "model_module": "@jupyter-widgets/controls",
          "model_name": "HTMLModel",
          "model_module_version": "1.5.0",
          "state": {
            "_dom_classes": [],
            "_model_module": "@jupyter-widgets/controls",
            "_model_module_version": "1.5.0",
            "_model_name": "HTMLModel",
            "_view_count": null,
            "_view_module": "@jupyter-widgets/controls",
            "_view_module_version": "1.5.0",
            "_view_name": "HTMLView",
            "description": "",
            "description_tooltip": null,
            "layout": "IPY_MODEL_b00f109c71224008ba81503badcf2161",
            "placeholder": "​",
            "style": "IPY_MODEL_561ecc4ac9c147b9ae6a818ca014dccc",
            "value": " 328/328 [00:35&lt;00:00,  9.32it/s]"
          }
        },
        "1f373e8c96dd4f14a5130d8f285e73ca": {
          "model_module": "@jupyter-widgets/base",
          "model_name": "LayoutModel",
          "model_module_version": "1.2.0",
          "state": {
            "_model_module": "@jupyter-widgets/base",
            "_model_module_version": "1.2.0",
            "_model_name": "LayoutModel",
            "_view_count": null,
            "_view_module": "@jupyter-widgets/base",
            "_view_module_version": "1.2.0",
            "_view_name": "LayoutView",
            "align_content": null,
            "align_items": null,
            "align_self": null,
            "border": null,
            "bottom": null,
            "display": null,
            "flex": null,
            "flex_flow": null,
            "grid_area": null,
            "grid_auto_columns": null,
            "grid_auto_flow": null,
            "grid_auto_rows": null,
            "grid_column": null,
            "grid_gap": null,
            "grid_row": null,
            "grid_template_areas": null,
            "grid_template_columns": null,
            "grid_template_rows": null,
            "height": null,
            "justify_content": null,
            "justify_items": null,
            "left": null,
            "margin": null,
            "max_height": null,
            "max_width": null,
            "min_height": null,
            "min_width": null,
            "object_fit": null,
            "object_position": null,
            "order": null,
            "overflow": null,
            "overflow_x": null,
            "overflow_y": null,
            "padding": null,
            "right": null,
            "top": null,
            "visibility": null,
            "width": null
          }
        },
        "cb294405ceda4ba19706953d4e5a82fa": {
          "model_module": "@jupyter-widgets/base",
          "model_name": "LayoutModel",
          "model_module_version": "1.2.0",
          "state": {
            "_model_module": "@jupyter-widgets/base",
            "_model_module_version": "1.2.0",
            "_model_name": "LayoutModel",
            "_view_count": null,
            "_view_module": "@jupyter-widgets/base",
            "_view_module_version": "1.2.0",
            "_view_name": "LayoutView",
            "align_content": null,
            "align_items": null,
            "align_self": null,
            "border": null,
            "bottom": null,
            "display": null,
            "flex": null,
            "flex_flow": null,
            "grid_area": null,
            "grid_auto_columns": null,
            "grid_auto_flow": null,
            "grid_auto_rows": null,
            "grid_column": null,
            "grid_gap": null,
            "grid_row": null,
            "grid_template_areas": null,
            "grid_template_columns": null,
            "grid_template_rows": null,
            "height": null,
            "justify_content": null,
            "justify_items": null,
            "left": null,
            "margin": null,
            "max_height": null,
            "max_width": null,
            "min_height": null,
            "min_width": null,
            "object_fit": null,
            "object_position": null,
            "order": null,
            "overflow": null,
            "overflow_x": null,
            "overflow_y": null,
            "padding": null,
            "right": null,
            "top": null,
            "visibility": null,
            "width": null
          }
        },
        "26caab2638bd4b339dfddc87ebca3756": {
          "model_module": "@jupyter-widgets/controls",
          "model_name": "DescriptionStyleModel",
          "model_module_version": "1.5.0",
          "state": {
            "_model_module": "@jupyter-widgets/controls",
            "_model_module_version": "1.5.0",
            "_model_name": "DescriptionStyleModel",
            "_view_count": null,
            "_view_module": "@jupyter-widgets/base",
            "_view_module_version": "1.2.0",
            "_view_name": "StyleView",
            "description_width": ""
          }
        },
        "153dfe7e51c149a6b3543912ed766bc0": {
          "model_module": "@jupyter-widgets/base",
          "model_name": "LayoutModel",
          "model_module_version": "1.2.0",
          "state": {
            "_model_module": "@jupyter-widgets/base",
            "_model_module_version": "1.2.0",
            "_model_name": "LayoutModel",
            "_view_count": null,
            "_view_module": "@jupyter-widgets/base",
            "_view_module_version": "1.2.0",
            "_view_name": "LayoutView",
            "align_content": null,
            "align_items": null,
            "align_self": null,
            "border": null,
            "bottom": null,
            "display": null,
            "flex": null,
            "flex_flow": null,
            "grid_area": null,
            "grid_auto_columns": null,
            "grid_auto_flow": null,
            "grid_auto_rows": null,
            "grid_column": null,
            "grid_gap": null,
            "grid_row": null,
            "grid_template_areas": null,
            "grid_template_columns": null,
            "grid_template_rows": null,
            "height": null,
            "justify_content": null,
            "justify_items": null,
            "left": null,
            "margin": null,
            "max_height": null,
            "max_width": null,
            "min_height": null,
            "min_width": null,
            "object_fit": null,
            "object_position": null,
            "order": null,
            "overflow": null,
            "overflow_x": null,
            "overflow_y": null,
            "padding": null,
            "right": null,
            "top": null,
            "visibility": null,
            "width": null
          }
        },
        "d7dace637210481695420fc4571a202c": {
          "model_module": "@jupyter-widgets/controls",
          "model_name": "ProgressStyleModel",
          "model_module_version": "1.5.0",
          "state": {
            "_model_module": "@jupyter-widgets/controls",
            "_model_module_version": "1.5.0",
            "_model_name": "ProgressStyleModel",
            "_view_count": null,
            "_view_module": "@jupyter-widgets/base",
            "_view_module_version": "1.2.0",
            "_view_name": "StyleView",
            "bar_color": null,
            "description_width": ""
          }
        },
        "b00f109c71224008ba81503badcf2161": {
          "model_module": "@jupyter-widgets/base",
          "model_name": "LayoutModel",
          "model_module_version": "1.2.0",
          "state": {
            "_model_module": "@jupyter-widgets/base",
            "_model_module_version": "1.2.0",
            "_model_name": "LayoutModel",
            "_view_count": null,
            "_view_module": "@jupyter-widgets/base",
            "_view_module_version": "1.2.0",
            "_view_name": "LayoutView",
            "align_content": null,
            "align_items": null,
            "align_self": null,
            "border": null,
            "bottom": null,
            "display": null,
            "flex": null,
            "flex_flow": null,
            "grid_area": null,
            "grid_auto_columns": null,
            "grid_auto_flow": null,
            "grid_auto_rows": null,
            "grid_column": null,
            "grid_gap": null,
            "grid_row": null,
            "grid_template_areas": null,
            "grid_template_columns": null,
            "grid_template_rows": null,
            "height": null,
            "justify_content": null,
            "justify_items": null,
            "left": null,
            "margin": null,
            "max_height": null,
            "max_width": null,
            "min_height": null,
            "min_width": null,
            "object_fit": null,
            "object_position": null,
            "order": null,
            "overflow": null,
            "overflow_x": null,
            "overflow_y": null,
            "padding": null,
            "right": null,
            "top": null,
            "visibility": null,
            "width": null
          }
        },
        "561ecc4ac9c147b9ae6a818ca014dccc": {
          "model_module": "@jupyter-widgets/controls",
          "model_name": "DescriptionStyleModel",
          "model_module_version": "1.5.0",
          "state": {
            "_model_module": "@jupyter-widgets/controls",
            "_model_module_version": "1.5.0",
            "_model_name": "DescriptionStyleModel",
            "_view_count": null,
            "_view_module": "@jupyter-widgets/base",
            "_view_module_version": "1.2.0",
            "_view_name": "StyleView",
            "description_width": ""
          }
        },
        "2cf0d35e1ab143ae990271d5a480388c": {
          "model_module": "@jupyter-widgets/controls",
          "model_name": "HBoxModel",
          "model_module_version": "1.5.0",
          "state": {
            "_dom_classes": [],
            "_model_module": "@jupyter-widgets/controls",
            "_model_module_version": "1.5.0",
            "_model_name": "HBoxModel",
            "_view_count": null,
            "_view_module": "@jupyter-widgets/controls",
            "_view_module_version": "1.5.0",
            "_view_name": "HBoxView",
            "box_style": "",
            "children": [
              "IPY_MODEL_d31d5b9c4eff49dbab534fc3d4d3f4ad",
              "IPY_MODEL_c65b86119d9b487a9645c6735be9a247",
              "IPY_MODEL_d92c7bbbd3a64bb6bd3ee51ab287eb63"
            ],
            "layout": "IPY_MODEL_c0ce286a63ad4da1b9d7d999ac0a72d8"
          }
        },
        "d31d5b9c4eff49dbab534fc3d4d3f4ad": {
          "model_module": "@jupyter-widgets/controls",
          "model_name": "HTMLModel",
          "model_module_version": "1.5.0",
          "state": {
            "_dom_classes": [],
            "_model_module": "@jupyter-widgets/controls",
            "_model_module_version": "1.5.0",
            "_model_name": "HTMLModel",
            "_view_count": null,
            "_view_module": "@jupyter-widgets/controls",
            "_view_module_version": "1.5.0",
            "_view_name": "HTMLView",
            "description": "",
            "description_tooltip": null,
            "layout": "IPY_MODEL_bcb510af9e1a432884d3296754d6a56c",
            "placeholder": "​",
            "style": "IPY_MODEL_94e08cb356d84cb2bb06a7dad6023079",
            "value": "Training Epoch 5: 100%"
          }
        },
        "c65b86119d9b487a9645c6735be9a247": {
          "model_module": "@jupyter-widgets/controls",
          "model_name": "FloatProgressModel",
          "model_module_version": "1.5.0",
          "state": {
            "_dom_classes": [],
            "_model_module": "@jupyter-widgets/controls",
            "_model_module_version": "1.5.0",
            "_model_name": "FloatProgressModel",
            "_view_count": null,
            "_view_module": "@jupyter-widgets/controls",
            "_view_module_version": "1.5.0",
            "_view_name": "ProgressView",
            "bar_style": "success",
            "description": "",
            "description_tooltip": null,
            "layout": "IPY_MODEL_e4d5e78f82464d0dafa25eb30dc277d1",
            "max": 984,
            "min": 0,
            "orientation": "horizontal",
            "style": "IPY_MODEL_abf17d6e576348c09530a53f15b11483",
            "value": 984
          }
        },
        "d92c7bbbd3a64bb6bd3ee51ab287eb63": {
          "model_module": "@jupyter-widgets/controls",
          "model_name": "HTMLModel",
          "model_module_version": "1.5.0",
          "state": {
            "_dom_classes": [],
            "_model_module": "@jupyter-widgets/controls",
            "_model_module_version": "1.5.0",
            "_model_name": "HTMLModel",
            "_view_count": null,
            "_view_module": "@jupyter-widgets/controls",
            "_view_module_version": "1.5.0",
            "_view_name": "HTMLView",
            "description": "",
            "description_tooltip": null,
            "layout": "IPY_MODEL_50c21aa35d8a412a9aa39f684e883569",
            "placeholder": "​",
            "style": "IPY_MODEL_16e5f8358eb340b58daf8392b88a4d58",
            "value": " 984/984 [05:53&lt;00:00,  2.79it/s]"
          }
        },
        "c0ce286a63ad4da1b9d7d999ac0a72d8": {
          "model_module": "@jupyter-widgets/base",
          "model_name": "LayoutModel",
          "model_module_version": "1.2.0",
          "state": {
            "_model_module": "@jupyter-widgets/base",
            "_model_module_version": "1.2.0",
            "_model_name": "LayoutModel",
            "_view_count": null,
            "_view_module": "@jupyter-widgets/base",
            "_view_module_version": "1.2.0",
            "_view_name": "LayoutView",
            "align_content": null,
            "align_items": null,
            "align_self": null,
            "border": null,
            "bottom": null,
            "display": null,
            "flex": null,
            "flex_flow": null,
            "grid_area": null,
            "grid_auto_columns": null,
            "grid_auto_flow": null,
            "grid_auto_rows": null,
            "grid_column": null,
            "grid_gap": null,
            "grid_row": null,
            "grid_template_areas": null,
            "grid_template_columns": null,
            "grid_template_rows": null,
            "height": null,
            "justify_content": null,
            "justify_items": null,
            "left": null,
            "margin": null,
            "max_height": null,
            "max_width": null,
            "min_height": null,
            "min_width": null,
            "object_fit": null,
            "object_position": null,
            "order": null,
            "overflow": null,
            "overflow_x": null,
            "overflow_y": null,
            "padding": null,
            "right": null,
            "top": null,
            "visibility": null,
            "width": null
          }
        },
        "bcb510af9e1a432884d3296754d6a56c": {
          "model_module": "@jupyter-widgets/base",
          "model_name": "LayoutModel",
          "model_module_version": "1.2.0",
          "state": {
            "_model_module": "@jupyter-widgets/base",
            "_model_module_version": "1.2.0",
            "_model_name": "LayoutModel",
            "_view_count": null,
            "_view_module": "@jupyter-widgets/base",
            "_view_module_version": "1.2.0",
            "_view_name": "LayoutView",
            "align_content": null,
            "align_items": null,
            "align_self": null,
            "border": null,
            "bottom": null,
            "display": null,
            "flex": null,
            "flex_flow": null,
            "grid_area": null,
            "grid_auto_columns": null,
            "grid_auto_flow": null,
            "grid_auto_rows": null,
            "grid_column": null,
            "grid_gap": null,
            "grid_row": null,
            "grid_template_areas": null,
            "grid_template_columns": null,
            "grid_template_rows": null,
            "height": null,
            "justify_content": null,
            "justify_items": null,
            "left": null,
            "margin": null,
            "max_height": null,
            "max_width": null,
            "min_height": null,
            "min_width": null,
            "object_fit": null,
            "object_position": null,
            "order": null,
            "overflow": null,
            "overflow_x": null,
            "overflow_y": null,
            "padding": null,
            "right": null,
            "top": null,
            "visibility": null,
            "width": null
          }
        },
        "94e08cb356d84cb2bb06a7dad6023079": {
          "model_module": "@jupyter-widgets/controls",
          "model_name": "DescriptionStyleModel",
          "model_module_version": "1.5.0",
          "state": {
            "_model_module": "@jupyter-widgets/controls",
            "_model_module_version": "1.5.0",
            "_model_name": "DescriptionStyleModel",
            "_view_count": null,
            "_view_module": "@jupyter-widgets/base",
            "_view_module_version": "1.2.0",
            "_view_name": "StyleView",
            "description_width": ""
          }
        },
        "e4d5e78f82464d0dafa25eb30dc277d1": {
          "model_module": "@jupyter-widgets/base",
          "model_name": "LayoutModel",
          "model_module_version": "1.2.0",
          "state": {
            "_model_module": "@jupyter-widgets/base",
            "_model_module_version": "1.2.0",
            "_model_name": "LayoutModel",
            "_view_count": null,
            "_view_module": "@jupyter-widgets/base",
            "_view_module_version": "1.2.0",
            "_view_name": "LayoutView",
            "align_content": null,
            "align_items": null,
            "align_self": null,
            "border": null,
            "bottom": null,
            "display": null,
            "flex": null,
            "flex_flow": null,
            "grid_area": null,
            "grid_auto_columns": null,
            "grid_auto_flow": null,
            "grid_auto_rows": null,
            "grid_column": null,
            "grid_gap": null,
            "grid_row": null,
            "grid_template_areas": null,
            "grid_template_columns": null,
            "grid_template_rows": null,
            "height": null,
            "justify_content": null,
            "justify_items": null,
            "left": null,
            "margin": null,
            "max_height": null,
            "max_width": null,
            "min_height": null,
            "min_width": null,
            "object_fit": null,
            "object_position": null,
            "order": null,
            "overflow": null,
            "overflow_x": null,
            "overflow_y": null,
            "padding": null,
            "right": null,
            "top": null,
            "visibility": null,
            "width": null
          }
        },
        "abf17d6e576348c09530a53f15b11483": {
          "model_module": "@jupyter-widgets/controls",
          "model_name": "ProgressStyleModel",
          "model_module_version": "1.5.0",
          "state": {
            "_model_module": "@jupyter-widgets/controls",
            "_model_module_version": "1.5.0",
            "_model_name": "ProgressStyleModel",
            "_view_count": null,
            "_view_module": "@jupyter-widgets/base",
            "_view_module_version": "1.2.0",
            "_view_name": "StyleView",
            "bar_color": null,
            "description_width": ""
          }
        },
        "50c21aa35d8a412a9aa39f684e883569": {
          "model_module": "@jupyter-widgets/base",
          "model_name": "LayoutModel",
          "model_module_version": "1.2.0",
          "state": {
            "_model_module": "@jupyter-widgets/base",
            "_model_module_version": "1.2.0",
            "_model_name": "LayoutModel",
            "_view_count": null,
            "_view_module": "@jupyter-widgets/base",
            "_view_module_version": "1.2.0",
            "_view_name": "LayoutView",
            "align_content": null,
            "align_items": null,
            "align_self": null,
            "border": null,
            "bottom": null,
            "display": null,
            "flex": null,
            "flex_flow": null,
            "grid_area": null,
            "grid_auto_columns": null,
            "grid_auto_flow": null,
            "grid_auto_rows": null,
            "grid_column": null,
            "grid_gap": null,
            "grid_row": null,
            "grid_template_areas": null,
            "grid_template_columns": null,
            "grid_template_rows": null,
            "height": null,
            "justify_content": null,
            "justify_items": null,
            "left": null,
            "margin": null,
            "max_height": null,
            "max_width": null,
            "min_height": null,
            "min_width": null,
            "object_fit": null,
            "object_position": null,
            "order": null,
            "overflow": null,
            "overflow_x": null,
            "overflow_y": null,
            "padding": null,
            "right": null,
            "top": null,
            "visibility": null,
            "width": null
          }
        },
        "16e5f8358eb340b58daf8392b88a4d58": {
          "model_module": "@jupyter-widgets/controls",
          "model_name": "DescriptionStyleModel",
          "model_module_version": "1.5.0",
          "state": {
            "_model_module": "@jupyter-widgets/controls",
            "_model_module_version": "1.5.0",
            "_model_name": "DescriptionStyleModel",
            "_view_count": null,
            "_view_module": "@jupyter-widgets/base",
            "_view_module_version": "1.2.0",
            "_view_name": "StyleView",
            "description_width": ""
          }
        },
        "726634251c554f4bb23194dbcec7b045": {
          "model_module": "@jupyter-widgets/controls",
          "model_name": "HBoxModel",
          "model_module_version": "1.5.0",
          "state": {
            "_dom_classes": [],
            "_model_module": "@jupyter-widgets/controls",
            "_model_module_version": "1.5.0",
            "_model_name": "HBoxModel",
            "_view_count": null,
            "_view_module": "@jupyter-widgets/controls",
            "_view_module_version": "1.5.0",
            "_view_name": "HBoxView",
            "box_style": "",
            "children": [
              "IPY_MODEL_078c835c8b324b4c871a7c52d95dbe80",
              "IPY_MODEL_bb0dc2a8f1054e42ac6964605f641992",
              "IPY_MODEL_2eccaf1761754f899e9332451ff675f1"
            ],
            "layout": "IPY_MODEL_0e1875b52e084546be4ecd0396ff6155"
          }
        },
        "078c835c8b324b4c871a7c52d95dbe80": {
          "model_module": "@jupyter-widgets/controls",
          "model_name": "HTMLModel",
          "model_module_version": "1.5.0",
          "state": {
            "_dom_classes": [],
            "_model_module": "@jupyter-widgets/controls",
            "_model_module_version": "1.5.0",
            "_model_name": "HTMLModel",
            "_view_count": null,
            "_view_module": "@jupyter-widgets/controls",
            "_view_module_version": "1.5.0",
            "_view_name": "HTMLView",
            "description": "",
            "description_tooltip": null,
            "layout": "IPY_MODEL_59212baa1d11451a8cd31d895f5b3d98",
            "placeholder": "​",
            "style": "IPY_MODEL_2dc4b47cf9fe4ed4a43de902a824c9b2",
            "value": "Validating Epoch 5: 100%"
          }
        },
        "bb0dc2a8f1054e42ac6964605f641992": {
          "model_module": "@jupyter-widgets/controls",
          "model_name": "FloatProgressModel",
          "model_module_version": "1.5.0",
          "state": {
            "_dom_classes": [],
            "_model_module": "@jupyter-widgets/controls",
            "_model_module_version": "1.5.0",
            "_model_name": "FloatProgressModel",
            "_view_count": null,
            "_view_module": "@jupyter-widgets/controls",
            "_view_module_version": "1.5.0",
            "_view_name": "ProgressView",
            "bar_style": "success",
            "description": "",
            "description_tooltip": null,
            "layout": "IPY_MODEL_a4e2d22a74284837ac240bdf65c1ee51",
            "max": 328,
            "min": 0,
            "orientation": "horizontal",
            "style": "IPY_MODEL_32ec157dc8e648f0b3601fb2ae3bdc7b",
            "value": 328
          }
        },
        "2eccaf1761754f899e9332451ff675f1": {
          "model_module": "@jupyter-widgets/controls",
          "model_name": "HTMLModel",
          "model_module_version": "1.5.0",
          "state": {
            "_dom_classes": [],
            "_model_module": "@jupyter-widgets/controls",
            "_model_module_version": "1.5.0",
            "_model_name": "HTMLModel",
            "_view_count": null,
            "_view_module": "@jupyter-widgets/controls",
            "_view_module_version": "1.5.0",
            "_view_name": "HTMLView",
            "description": "",
            "description_tooltip": null,
            "layout": "IPY_MODEL_ce412f360ded45eeb25e6a35011dbb03",
            "placeholder": "​",
            "style": "IPY_MODEL_07cde8444f3740499eaff5659d9f6c46",
            "value": " 328/328 [00:35&lt;00:00,  9.36it/s]"
          }
        },
        "0e1875b52e084546be4ecd0396ff6155": {
          "model_module": "@jupyter-widgets/base",
          "model_name": "LayoutModel",
          "model_module_version": "1.2.0",
          "state": {
            "_model_module": "@jupyter-widgets/base",
            "_model_module_version": "1.2.0",
            "_model_name": "LayoutModel",
            "_view_count": null,
            "_view_module": "@jupyter-widgets/base",
            "_view_module_version": "1.2.0",
            "_view_name": "LayoutView",
            "align_content": null,
            "align_items": null,
            "align_self": null,
            "border": null,
            "bottom": null,
            "display": null,
            "flex": null,
            "flex_flow": null,
            "grid_area": null,
            "grid_auto_columns": null,
            "grid_auto_flow": null,
            "grid_auto_rows": null,
            "grid_column": null,
            "grid_gap": null,
            "grid_row": null,
            "grid_template_areas": null,
            "grid_template_columns": null,
            "grid_template_rows": null,
            "height": null,
            "justify_content": null,
            "justify_items": null,
            "left": null,
            "margin": null,
            "max_height": null,
            "max_width": null,
            "min_height": null,
            "min_width": null,
            "object_fit": null,
            "object_position": null,
            "order": null,
            "overflow": null,
            "overflow_x": null,
            "overflow_y": null,
            "padding": null,
            "right": null,
            "top": null,
            "visibility": null,
            "width": null
          }
        },
        "59212baa1d11451a8cd31d895f5b3d98": {
          "model_module": "@jupyter-widgets/base",
          "model_name": "LayoutModel",
          "model_module_version": "1.2.0",
          "state": {
            "_model_module": "@jupyter-widgets/base",
            "_model_module_version": "1.2.0",
            "_model_name": "LayoutModel",
            "_view_count": null,
            "_view_module": "@jupyter-widgets/base",
            "_view_module_version": "1.2.0",
            "_view_name": "LayoutView",
            "align_content": null,
            "align_items": null,
            "align_self": null,
            "border": null,
            "bottom": null,
            "display": null,
            "flex": null,
            "flex_flow": null,
            "grid_area": null,
            "grid_auto_columns": null,
            "grid_auto_flow": null,
            "grid_auto_rows": null,
            "grid_column": null,
            "grid_gap": null,
            "grid_row": null,
            "grid_template_areas": null,
            "grid_template_columns": null,
            "grid_template_rows": null,
            "height": null,
            "justify_content": null,
            "justify_items": null,
            "left": null,
            "margin": null,
            "max_height": null,
            "max_width": null,
            "min_height": null,
            "min_width": null,
            "object_fit": null,
            "object_position": null,
            "order": null,
            "overflow": null,
            "overflow_x": null,
            "overflow_y": null,
            "padding": null,
            "right": null,
            "top": null,
            "visibility": null,
            "width": null
          }
        },
        "2dc4b47cf9fe4ed4a43de902a824c9b2": {
          "model_module": "@jupyter-widgets/controls",
          "model_name": "DescriptionStyleModel",
          "model_module_version": "1.5.0",
          "state": {
            "_model_module": "@jupyter-widgets/controls",
            "_model_module_version": "1.5.0",
            "_model_name": "DescriptionStyleModel",
            "_view_count": null,
            "_view_module": "@jupyter-widgets/base",
            "_view_module_version": "1.2.0",
            "_view_name": "StyleView",
            "description_width": ""
          }
        },
        "a4e2d22a74284837ac240bdf65c1ee51": {
          "model_module": "@jupyter-widgets/base",
          "model_name": "LayoutModel",
          "model_module_version": "1.2.0",
          "state": {
            "_model_module": "@jupyter-widgets/base",
            "_model_module_version": "1.2.0",
            "_model_name": "LayoutModel",
            "_view_count": null,
            "_view_module": "@jupyter-widgets/base",
            "_view_module_version": "1.2.0",
            "_view_name": "LayoutView",
            "align_content": null,
            "align_items": null,
            "align_self": null,
            "border": null,
            "bottom": null,
            "display": null,
            "flex": null,
            "flex_flow": null,
            "grid_area": null,
            "grid_auto_columns": null,
            "grid_auto_flow": null,
            "grid_auto_rows": null,
            "grid_column": null,
            "grid_gap": null,
            "grid_row": null,
            "grid_template_areas": null,
            "grid_template_columns": null,
            "grid_template_rows": null,
            "height": null,
            "justify_content": null,
            "justify_items": null,
            "left": null,
            "margin": null,
            "max_height": null,
            "max_width": null,
            "min_height": null,
            "min_width": null,
            "object_fit": null,
            "object_position": null,
            "order": null,
            "overflow": null,
            "overflow_x": null,
            "overflow_y": null,
            "padding": null,
            "right": null,
            "top": null,
            "visibility": null,
            "width": null
          }
        },
        "32ec157dc8e648f0b3601fb2ae3bdc7b": {
          "model_module": "@jupyter-widgets/controls",
          "model_name": "ProgressStyleModel",
          "model_module_version": "1.5.0",
          "state": {
            "_model_module": "@jupyter-widgets/controls",
            "_model_module_version": "1.5.0",
            "_model_name": "ProgressStyleModel",
            "_view_count": null,
            "_view_module": "@jupyter-widgets/base",
            "_view_module_version": "1.2.0",
            "_view_name": "StyleView",
            "bar_color": null,
            "description_width": ""
          }
        },
        "ce412f360ded45eeb25e6a35011dbb03": {
          "model_module": "@jupyter-widgets/base",
          "model_name": "LayoutModel",
          "model_module_version": "1.2.0",
          "state": {
            "_model_module": "@jupyter-widgets/base",
            "_model_module_version": "1.2.0",
            "_model_name": "LayoutModel",
            "_view_count": null,
            "_view_module": "@jupyter-widgets/base",
            "_view_module_version": "1.2.0",
            "_view_name": "LayoutView",
            "align_content": null,
            "align_items": null,
            "align_self": null,
            "border": null,
            "bottom": null,
            "display": null,
            "flex": null,
            "flex_flow": null,
            "grid_area": null,
            "grid_auto_columns": null,
            "grid_auto_flow": null,
            "grid_auto_rows": null,
            "grid_column": null,
            "grid_gap": null,
            "grid_row": null,
            "grid_template_areas": null,
            "grid_template_columns": null,
            "grid_template_rows": null,
            "height": null,
            "justify_content": null,
            "justify_items": null,
            "left": null,
            "margin": null,
            "max_height": null,
            "max_width": null,
            "min_height": null,
            "min_width": null,
            "object_fit": null,
            "object_position": null,
            "order": null,
            "overflow": null,
            "overflow_x": null,
            "overflow_y": null,
            "padding": null,
            "right": null,
            "top": null,
            "visibility": null,
            "width": null
          }
        },
        "07cde8444f3740499eaff5659d9f6c46": {
          "model_module": "@jupyter-widgets/controls",
          "model_name": "DescriptionStyleModel",
          "model_module_version": "1.5.0",
          "state": {
            "_model_module": "@jupyter-widgets/controls",
            "_model_module_version": "1.5.0",
            "_model_name": "DescriptionStyleModel",
            "_view_count": null,
            "_view_module": "@jupyter-widgets/base",
            "_view_module_version": "1.2.0",
            "_view_name": "StyleView",
            "description_width": ""
          }
        },
        "092c1a28e2e840a79d39dd88d2780f35": {
          "model_module": "@jupyter-widgets/controls",
          "model_name": "HBoxModel",
          "model_module_version": "1.5.0",
          "state": {
            "_dom_classes": [],
            "_model_module": "@jupyter-widgets/controls",
            "_model_module_version": "1.5.0",
            "_model_name": "HBoxModel",
            "_view_count": null,
            "_view_module": "@jupyter-widgets/controls",
            "_view_module_version": "1.5.0",
            "_view_name": "HBoxView",
            "box_style": "",
            "children": [
              "IPY_MODEL_fe300c9cee7441788374e7ba8bff35ff",
              "IPY_MODEL_8273352c31a2452c9ea92533f29378cc",
              "IPY_MODEL_2da1b0ddad3441dbbee25adab108d27a"
            ],
            "layout": "IPY_MODEL_bfe0e0672e6247d8b019c99da0fa8a75"
          }
        },
        "fe300c9cee7441788374e7ba8bff35ff": {
          "model_module": "@jupyter-widgets/controls",
          "model_name": "HTMLModel",
          "model_module_version": "1.5.0",
          "state": {
            "_dom_classes": [],
            "_model_module": "@jupyter-widgets/controls",
            "_model_module_version": "1.5.0",
            "_model_name": "HTMLModel",
            "_view_count": null,
            "_view_module": "@jupyter-widgets/controls",
            "_view_module_version": "1.5.0",
            "_view_name": "HTMLView",
            "description": "",
            "description_tooltip": null,
            "layout": "IPY_MODEL_a6e02f4c8ecd4d49a55a0cb5f62f85a7",
            "placeholder": "​",
            "style": "IPY_MODEL_12f068e9a726405d8f2ebdcc8927a29e",
            "value": "Testing: 100%"
          }
        },
        "8273352c31a2452c9ea92533f29378cc": {
          "model_module": "@jupyter-widgets/controls",
          "model_name": "FloatProgressModel",
          "model_module_version": "1.5.0",
          "state": {
            "_dom_classes": [],
            "_model_module": "@jupyter-widgets/controls",
            "_model_module_version": "1.5.0",
            "_model_name": "FloatProgressModel",
            "_view_count": null,
            "_view_module": "@jupyter-widgets/controls",
            "_view_module_version": "1.5.0",
            "_view_name": "ProgressView",
            "bar_style": "success",
            "description": "",
            "description_tooltip": null,
            "layout": "IPY_MODEL_df92b917840549e087edd75a58dca7e2",
            "max": 165,
            "min": 0,
            "orientation": "horizontal",
            "style": "IPY_MODEL_2032739d67c948bd9956cbd5ef46f8a1",
            "value": 165
          }
        },
        "2da1b0ddad3441dbbee25adab108d27a": {
          "model_module": "@jupyter-widgets/controls",
          "model_name": "HTMLModel",
          "model_module_version": "1.5.0",
          "state": {
            "_dom_classes": [],
            "_model_module": "@jupyter-widgets/controls",
            "_model_module_version": "1.5.0",
            "_model_name": "HTMLModel",
            "_view_count": null,
            "_view_module": "@jupyter-widgets/controls",
            "_view_module_version": "1.5.0",
            "_view_name": "HTMLView",
            "description": "",
            "description_tooltip": null,
            "layout": "IPY_MODEL_12529cbcd31d42b290529546b516025c",
            "placeholder": "​",
            "style": "IPY_MODEL_67e2ef3a3ed3454ba2295f7a4fea9eb0",
            "value": " 165/165 [02:01&lt;00:00,  1.80it/s]"
          }
        },
        "bfe0e0672e6247d8b019c99da0fa8a75": {
          "model_module": "@jupyter-widgets/base",
          "model_name": "LayoutModel",
          "model_module_version": "1.2.0",
          "state": {
            "_model_module": "@jupyter-widgets/base",
            "_model_module_version": "1.2.0",
            "_model_name": "LayoutModel",
            "_view_count": null,
            "_view_module": "@jupyter-widgets/base",
            "_view_module_version": "1.2.0",
            "_view_name": "LayoutView",
            "align_content": null,
            "align_items": null,
            "align_self": null,
            "border": null,
            "bottom": null,
            "display": null,
            "flex": null,
            "flex_flow": null,
            "grid_area": null,
            "grid_auto_columns": null,
            "grid_auto_flow": null,
            "grid_auto_rows": null,
            "grid_column": null,
            "grid_gap": null,
            "grid_row": null,
            "grid_template_areas": null,
            "grid_template_columns": null,
            "grid_template_rows": null,
            "height": null,
            "justify_content": null,
            "justify_items": null,
            "left": null,
            "margin": null,
            "max_height": null,
            "max_width": null,
            "min_height": null,
            "min_width": null,
            "object_fit": null,
            "object_position": null,
            "order": null,
            "overflow": null,
            "overflow_x": null,
            "overflow_y": null,
            "padding": null,
            "right": null,
            "top": null,
            "visibility": null,
            "width": null
          }
        },
        "a6e02f4c8ecd4d49a55a0cb5f62f85a7": {
          "model_module": "@jupyter-widgets/base",
          "model_name": "LayoutModel",
          "model_module_version": "1.2.0",
          "state": {
            "_model_module": "@jupyter-widgets/base",
            "_model_module_version": "1.2.0",
            "_model_name": "LayoutModel",
            "_view_count": null,
            "_view_module": "@jupyter-widgets/base",
            "_view_module_version": "1.2.0",
            "_view_name": "LayoutView",
            "align_content": null,
            "align_items": null,
            "align_self": null,
            "border": null,
            "bottom": null,
            "display": null,
            "flex": null,
            "flex_flow": null,
            "grid_area": null,
            "grid_auto_columns": null,
            "grid_auto_flow": null,
            "grid_auto_rows": null,
            "grid_column": null,
            "grid_gap": null,
            "grid_row": null,
            "grid_template_areas": null,
            "grid_template_columns": null,
            "grid_template_rows": null,
            "height": null,
            "justify_content": null,
            "justify_items": null,
            "left": null,
            "margin": null,
            "max_height": null,
            "max_width": null,
            "min_height": null,
            "min_width": null,
            "object_fit": null,
            "object_position": null,
            "order": null,
            "overflow": null,
            "overflow_x": null,
            "overflow_y": null,
            "padding": null,
            "right": null,
            "top": null,
            "visibility": null,
            "width": null
          }
        },
        "12f068e9a726405d8f2ebdcc8927a29e": {
          "model_module": "@jupyter-widgets/controls",
          "model_name": "DescriptionStyleModel",
          "model_module_version": "1.5.0",
          "state": {
            "_model_module": "@jupyter-widgets/controls",
            "_model_module_version": "1.5.0",
            "_model_name": "DescriptionStyleModel",
            "_view_count": null,
            "_view_module": "@jupyter-widgets/base",
            "_view_module_version": "1.2.0",
            "_view_name": "StyleView",
            "description_width": ""
          }
        },
        "df92b917840549e087edd75a58dca7e2": {
          "model_module": "@jupyter-widgets/base",
          "model_name": "LayoutModel",
          "model_module_version": "1.2.0",
          "state": {
            "_model_module": "@jupyter-widgets/base",
            "_model_module_version": "1.2.0",
            "_model_name": "LayoutModel",
            "_view_count": null,
            "_view_module": "@jupyter-widgets/base",
            "_view_module_version": "1.2.0",
            "_view_name": "LayoutView",
            "align_content": null,
            "align_items": null,
            "align_self": null,
            "border": null,
            "bottom": null,
            "display": null,
            "flex": null,
            "flex_flow": null,
            "grid_area": null,
            "grid_auto_columns": null,
            "grid_auto_flow": null,
            "grid_auto_rows": null,
            "grid_column": null,
            "grid_gap": null,
            "grid_row": null,
            "grid_template_areas": null,
            "grid_template_columns": null,
            "grid_template_rows": null,
            "height": null,
            "justify_content": null,
            "justify_items": null,
            "left": null,
            "margin": null,
            "max_height": null,
            "max_width": null,
            "min_height": null,
            "min_width": null,
            "object_fit": null,
            "object_position": null,
            "order": null,
            "overflow": null,
            "overflow_x": null,
            "overflow_y": null,
            "padding": null,
            "right": null,
            "top": null,
            "visibility": null,
            "width": null
          }
        },
        "2032739d67c948bd9956cbd5ef46f8a1": {
          "model_module": "@jupyter-widgets/controls",
          "model_name": "ProgressStyleModel",
          "model_module_version": "1.5.0",
          "state": {
            "_model_module": "@jupyter-widgets/controls",
            "_model_module_version": "1.5.0",
            "_model_name": "ProgressStyleModel",
            "_view_count": null,
            "_view_module": "@jupyter-widgets/base",
            "_view_module_version": "1.2.0",
            "_view_name": "StyleView",
            "bar_color": null,
            "description_width": ""
          }
        },
        "12529cbcd31d42b290529546b516025c": {
          "model_module": "@jupyter-widgets/base",
          "model_name": "LayoutModel",
          "model_module_version": "1.2.0",
          "state": {
            "_model_module": "@jupyter-widgets/base",
            "_model_module_version": "1.2.0",
            "_model_name": "LayoutModel",
            "_view_count": null,
            "_view_module": "@jupyter-widgets/base",
            "_view_module_version": "1.2.0",
            "_view_name": "LayoutView",
            "align_content": null,
            "align_items": null,
            "align_self": null,
            "border": null,
            "bottom": null,
            "display": null,
            "flex": null,
            "flex_flow": null,
            "grid_area": null,
            "grid_auto_columns": null,
            "grid_auto_flow": null,
            "grid_auto_rows": null,
            "grid_column": null,
            "grid_gap": null,
            "grid_row": null,
            "grid_template_areas": null,
            "grid_template_columns": null,
            "grid_template_rows": null,
            "height": null,
            "justify_content": null,
            "justify_items": null,
            "left": null,
            "margin": null,
            "max_height": null,
            "max_width": null,
            "min_height": null,
            "min_width": null,
            "object_fit": null,
            "object_position": null,
            "order": null,
            "overflow": null,
            "overflow_x": null,
            "overflow_y": null,
            "padding": null,
            "right": null,
            "top": null,
            "visibility": null,
            "width": null
          }
        },
        "67e2ef3a3ed3454ba2295f7a4fea9eb0": {
          "model_module": "@jupyter-widgets/controls",
          "model_name": "DescriptionStyleModel",
          "model_module_version": "1.5.0",
          "state": {
            "_model_module": "@jupyter-widgets/controls",
            "_model_module_version": "1.5.0",
            "_model_name": "DescriptionStyleModel",
            "_view_count": null,
            "_view_module": "@jupyter-widgets/base",
            "_view_module_version": "1.2.0",
            "_view_name": "StyleView",
            "description_width": ""
          }
        }
      }
    }
  },
  "cells": [
    {
      "cell_type": "code",
      "execution_count": null,
      "metadata": {
        "colab": {
          "base_uri": "https://localhost:8080/"
        },
        "id": "JUxUG_GmXvPl",
        "outputId": "965329e1-b468-4306-f526-7a57d3e720c6"
      },
      "outputs": [
        {
          "output_type": "stream",
          "name": "stdout",
          "text": [
            "Requirement already satisfied: rouge_score in /usr/local/lib/python3.10/dist-packages (0.1.2)\n",
            "Requirement already satisfied: absl-py in /usr/local/lib/python3.10/dist-packages (from rouge_score) (1.4.0)\n",
            "Requirement already satisfied: nltk in /usr/local/lib/python3.10/dist-packages (from rouge_score) (3.8.1)\n",
            "Requirement already satisfied: numpy in /usr/local/lib/python3.10/dist-packages (from rouge_score) (1.25.2)\n",
            "Requirement already satisfied: six>=1.14.0 in /usr/local/lib/python3.10/dist-packages (from rouge_score) (1.16.0)\n",
            "Requirement already satisfied: click in /usr/local/lib/python3.10/dist-packages (from nltk->rouge_score) (8.1.7)\n",
            "Requirement already satisfied: joblib in /usr/local/lib/python3.10/dist-packages (from nltk->rouge_score) (1.4.2)\n",
            "Requirement already satisfied: regex>=2021.8.3 in /usr/local/lib/python3.10/dist-packages (from nltk->rouge_score) (2023.12.25)\n",
            "Requirement already satisfied: tqdm in /usr/local/lib/python3.10/dist-packages (from nltk->rouge_score) (4.66.4)\n"
          ]
        }
      ],
      "source": [
        "!pip install rouge_score"
      ]
    },
    {
      "cell_type": "code",
      "source": [
        "!pip install accelerate -U"
      ],
      "metadata": {
        "colab": {
          "base_uri": "https://localhost:8080/"
        },
        "id": "JrC5vylyX24A",
        "outputId": "73a13b88-5ac1-44df-d91c-a23de207f41e"
      },
      "execution_count": null,
      "outputs": [
        {
          "output_type": "stream",
          "name": "stdout",
          "text": [
            "Requirement already satisfied: accelerate in /usr/local/lib/python3.10/dist-packages (0.30.0)\n",
            "Requirement already satisfied: numpy>=1.17 in /usr/local/lib/python3.10/dist-packages (from accelerate) (1.25.2)\n",
            "Requirement already satisfied: packaging>=20.0 in /usr/local/lib/python3.10/dist-packages (from accelerate) (24.0)\n",
            "Requirement already satisfied: psutil in /usr/local/lib/python3.10/dist-packages (from accelerate) (5.9.5)\n",
            "Requirement already satisfied: pyyaml in /usr/local/lib/python3.10/dist-packages (from accelerate) (6.0.1)\n",
            "Requirement already satisfied: torch>=1.10.0 in /usr/local/lib/python3.10/dist-packages (from accelerate) (2.2.1+cu121)\n",
            "Requirement already satisfied: huggingface-hub in /usr/local/lib/python3.10/dist-packages (from accelerate) (0.20.3)\n",
            "Requirement already satisfied: safetensors>=0.3.1 in /usr/local/lib/python3.10/dist-packages (from accelerate) (0.4.3)\n",
            "Requirement already satisfied: filelock in /usr/local/lib/python3.10/dist-packages (from torch>=1.10.0->accelerate) (3.14.0)\n",
            "Requirement already satisfied: typing-extensions>=4.8.0 in /usr/local/lib/python3.10/dist-packages (from torch>=1.10.0->accelerate) (4.11.0)\n",
            "Requirement already satisfied: sympy in /usr/local/lib/python3.10/dist-packages (from torch>=1.10.0->accelerate) (1.12)\n",
            "Requirement already satisfied: networkx in /usr/local/lib/python3.10/dist-packages (from torch>=1.10.0->accelerate) (3.3)\n",
            "Requirement already satisfied: jinja2 in /usr/local/lib/python3.10/dist-packages (from torch>=1.10.0->accelerate) (3.1.4)\n",
            "Requirement already satisfied: fsspec in /usr/local/lib/python3.10/dist-packages (from torch>=1.10.0->accelerate) (2023.6.0)\n",
            "Requirement already satisfied: nvidia-cuda-nvrtc-cu12==12.1.105 in /usr/local/lib/python3.10/dist-packages (from torch>=1.10.0->accelerate) (12.1.105)\n",
            "Requirement already satisfied: nvidia-cuda-runtime-cu12==12.1.105 in /usr/local/lib/python3.10/dist-packages (from torch>=1.10.0->accelerate) (12.1.105)\n",
            "Requirement already satisfied: nvidia-cuda-cupti-cu12==12.1.105 in /usr/local/lib/python3.10/dist-packages (from torch>=1.10.0->accelerate) (12.1.105)\n",
            "Requirement already satisfied: nvidia-cudnn-cu12==8.9.2.26 in /usr/local/lib/python3.10/dist-packages (from torch>=1.10.0->accelerate) (8.9.2.26)\n",
            "Requirement already satisfied: nvidia-cublas-cu12==12.1.3.1 in /usr/local/lib/python3.10/dist-packages (from torch>=1.10.0->accelerate) (12.1.3.1)\n",
            "Requirement already satisfied: nvidia-cufft-cu12==11.0.2.54 in /usr/local/lib/python3.10/dist-packages (from torch>=1.10.0->accelerate) (11.0.2.54)\n",
            "Requirement already satisfied: nvidia-curand-cu12==10.3.2.106 in /usr/local/lib/python3.10/dist-packages (from torch>=1.10.0->accelerate) (10.3.2.106)\n",
            "Requirement already satisfied: nvidia-cusolver-cu12==11.4.5.107 in /usr/local/lib/python3.10/dist-packages (from torch>=1.10.0->accelerate) (11.4.5.107)\n",
            "Requirement already satisfied: nvidia-cusparse-cu12==12.1.0.106 in /usr/local/lib/python3.10/dist-packages (from torch>=1.10.0->accelerate) (12.1.0.106)\n",
            "Requirement already satisfied: nvidia-nccl-cu12==2.19.3 in /usr/local/lib/python3.10/dist-packages (from torch>=1.10.0->accelerate) (2.19.3)\n",
            "Requirement already satisfied: nvidia-nvtx-cu12==12.1.105 in /usr/local/lib/python3.10/dist-packages (from torch>=1.10.0->accelerate) (12.1.105)\n",
            "Requirement already satisfied: triton==2.2.0 in /usr/local/lib/python3.10/dist-packages (from torch>=1.10.0->accelerate) (2.2.0)\n",
            "Requirement already satisfied: nvidia-nvjitlink-cu12 in /usr/local/lib/python3.10/dist-packages (from nvidia-cusolver-cu12==11.4.5.107->torch>=1.10.0->accelerate) (12.4.127)\n",
            "Requirement already satisfied: requests in /usr/local/lib/python3.10/dist-packages (from huggingface-hub->accelerate) (2.31.0)\n",
            "Requirement already satisfied: tqdm>=4.42.1 in /usr/local/lib/python3.10/dist-packages (from huggingface-hub->accelerate) (4.66.4)\n",
            "Requirement already satisfied: MarkupSafe>=2.0 in /usr/local/lib/python3.10/dist-packages (from jinja2->torch>=1.10.0->accelerate) (2.1.5)\n",
            "Requirement already satisfied: charset-normalizer<4,>=2 in /usr/local/lib/python3.10/dist-packages (from requests->huggingface-hub->accelerate) (3.3.2)\n",
            "Requirement already satisfied: idna<4,>=2.5 in /usr/local/lib/python3.10/dist-packages (from requests->huggingface-hub->accelerate) (3.7)\n",
            "Requirement already satisfied: urllib3<3,>=1.21.1 in /usr/local/lib/python3.10/dist-packages (from requests->huggingface-hub->accelerate) (2.0.7)\n",
            "Requirement already satisfied: certifi>=2017.4.17 in /usr/local/lib/python3.10/dist-packages (from requests->huggingface-hub->accelerate) (2024.2.2)\n",
            "Requirement already satisfied: mpmath>=0.19 in /usr/local/lib/python3.10/dist-packages (from sympy->torch>=1.10.0->accelerate) (1.3.0)\n"
          ]
        }
      ]
    },
    {
      "cell_type": "code",
      "source": [
        "import numpy as np\n",
        "import pandas as pd\n",
        "from sklearn.model_selection import train_test_split\n",
        "import torch\n",
        "from torch.utils.data import DataLoader, Dataset, TensorDataset\n",
        "from transformers import T5Tokenizer, T5ForConditionalGeneration, AdamW\n",
        "from rouge_score import rouge_scorer\n",
        "from nltk.translate.bleu_score import sentence_bleu, corpus_bleu\n"
      ],
      "metadata": {
        "id": "SMKP8pECX4jV"
      },
      "execution_count": null,
      "outputs": []
    },
    {
      "cell_type": "code",
      "source": [
        "from google.colab import drive\n",
        "drive.mount('/content/drive')\n"
      ],
      "metadata": {
        "colab": {
          "base_uri": "https://localhost:8080/"
        },
        "id": "ol7bks7KX56j",
        "outputId": "7117543f-d9db-48fd-c7e3-9ef7f8e766fc"
      },
      "execution_count": null,
      "outputs": [
        {
          "output_type": "stream",
          "name": "stdout",
          "text": [
            "Drive already mounted at /content/drive; to attempt to forcibly remount, call drive.mount(\"/content/drive\", force_remount=True).\n"
          ]
        }
      ]
    },
    {
      "cell_type": "code",
      "source": [
        "# load dataset\n",
        "children_stories_df = pd.read_csv('/content/drive/My Drive/AppliedCV_data/children_stories.csv', encoding='ISO-8859-1')\n",
        "children_books_df = pd.read_csv('/content/drive/My Drive/AppliedCV_data/children_books.csv', encoding='ISO-8859-1')"
      ],
      "metadata": {
        "id": "IInlLngRX6vL"
      },
      "execution_count": null,
      "outputs": []
    },
    {
      "cell_type": "code",
      "source": [
        "print(children_stories_df.head())"
      ],
      "metadata": {
        "colab": {
          "base_uri": "https://localhost:8080/"
        },
        "id": "WRuW0QHOX7t8",
        "outputId": "40048898-e6d2-4795-cd32-52a3ffe723f3"
      },
      "execution_count": null,
      "outputs": [
        {
          "output_type": "stream",
          "name": "stdout",
          "text": [
            "                            names     cats  \\\n",
            "0                   HIDE AND SEEK  Age 2-9   \n",
            "1             GINGER THE GIRAFFE   Age 2-9   \n",
            "2                 DOING MY CHORES  Age 2-9   \n",
            "3             ABE THE SERVICE DOG  Age 2-9   \n",
            "4   SUNNY MEADOWS WOODLAND SCHOOL  Age 2-9   \n",
            "\n",
            "                                                desc  \n",
            "0  Was it just another game of hide and seek? No....  \n",
            "1  Read this warm tale of camaraderie and affecti...  \n",
            "2  Love shines through this great illustrated kid...  \n",
            "3  Abe was a real Service Dog who dedicated his l...  \n",
            "4  The class took a little train and went deep in...  \n"
          ]
        }
      ]
    },
    {
      "cell_type": "code",
      "source": [
        "children_stories_df = children_stories_df.drop(columns=['cats'])"
      ],
      "metadata": {
        "id": "s2ben1JEX-ZA"
      },
      "execution_count": null,
      "outputs": []
    },
    {
      "cell_type": "code",
      "source": [
        "print(children_stories_df.head())"
      ],
      "metadata": {
        "colab": {
          "base_uri": "https://localhost:8080/"
        },
        "id": "HYxGZUbEYDdN",
        "outputId": "03467f42-93ec-4dfa-d95d-2e60b7c89aa7"
      },
      "execution_count": null,
      "outputs": [
        {
          "output_type": "stream",
          "name": "stdout",
          "text": [
            "                            names  \\\n",
            "0                   HIDE AND SEEK   \n",
            "1             GINGER THE GIRAFFE    \n",
            "2                 DOING MY CHORES   \n",
            "3             ABE THE SERVICE DOG   \n",
            "4   SUNNY MEADOWS WOODLAND SCHOOL   \n",
            "\n",
            "                                                desc  \n",
            "0  Was it just another game of hide and seek? No....  \n",
            "1  Read this warm tale of camaraderie and affecti...  \n",
            "2  Love shines through this great illustrated kid...  \n",
            "3  Abe was a real Service Dog who dedicated his l...  \n",
            "4  The class took a little train and went deep in...  \n"
          ]
        }
      ]
    },
    {
      "cell_type": "code",
      "source": [
        "print(children_books_df.head())"
      ],
      "metadata": {
        "colab": {
          "base_uri": "https://localhost:8080/"
        },
        "id": "B8C4NO-IYNvD",
        "outputId": "2008f480-4d5c-4e8f-979e-138fe7d8b0a2"
      },
      "execution_count": null,
      "outputs": [
        {
          "output_type": "stream",
          "name": "stdout",
          "text": [
            "                         Title  \\\n",
            "0  The Girl Who Drank the Moon   \n",
            "1              Time Between Us   \n",
            "2            Girl Out of Water   \n",
            "3                      Captive   \n",
            "4          The School of Music   \n",
            "\n",
            "                                              Author  \\\n",
            "0                                     Kelly Barnhill   \n",
            "1                               Tamara Ireland Stone   \n",
            "2                                      Nat Luurtsema   \n",
            "3                                       A J Grainger   \n",
            "4  Rachel Bowen and Meurig Bowen Illustrator: Dan...   \n",
            "\n",
            "                                                Desc Inerest_age  \\\n",
            "0  Every year, the evil Protectorate offers a bab...      10-14    \n",
            "1  Sixteen-year-old Anna is struggling to underst...        13+    \n",
            "2  Lou Brown's swimming ambitions sank without tr...      13-18    \n",
            "3  Robyn is scared. Ever since the attempted assa...        13+    \n",
            "4  Welcome to the School of Music. In charge is M...        10+    \n",
            "\n",
            "                            Reading_age  \n",
            "0  10-14                                 \n",
            "1    12+                                 \n",
            "2    10+                                 \n",
            "3     13                                 \n",
            "4    10+                                 \n"
          ]
        }
      ]
    },
    {
      "cell_type": "code",
      "source": [
        "children_books_df = children_books_df.drop(columns=['Author', 'Inerest_age', 'Reading_age'])"
      ],
      "metadata": {
        "id": "uXbU3lHUYWaA"
      },
      "execution_count": null,
      "outputs": []
    },
    {
      "cell_type": "code",
      "source": [
        "print(children_books_df.head())"
      ],
      "metadata": {
        "colab": {
          "base_uri": "https://localhost:8080/"
        },
        "id": "iO6uxI5SYYxh",
        "outputId": "b00c10d3-7c11-4f5b-d057-6b0a22aa9841"
      },
      "execution_count": null,
      "outputs": [
        {
          "output_type": "stream",
          "name": "stdout",
          "text": [
            "                         Title  \\\n",
            "0  The Girl Who Drank the Moon   \n",
            "1              Time Between Us   \n",
            "2            Girl Out of Water   \n",
            "3                      Captive   \n",
            "4          The School of Music   \n",
            "\n",
            "                                                Desc  \n",
            "0  Every year, the evil Protectorate offers a bab...  \n",
            "1  Sixteen-year-old Anna is struggling to underst...  \n",
            "2  Lou Brown's swimming ambitions sank without tr...  \n",
            "3  Robyn is scared. Ever since the attempted assa...  \n",
            "4  Welcome to the School of Music. In charge is M...  \n"
          ]
        }
      ]
    },
    {
      "cell_type": "code",
      "source": [
        "# Rename columns to \"Title\" and \"Desc\"\n",
        "children_stories_df.rename(columns={'names': 'Title', 'desc': 'Desc'}, inplace=True)"
      ],
      "metadata": {
        "id": "K4XiOQ2nYas9"
      },
      "execution_count": null,
      "outputs": []
    },
    {
      "cell_type": "code",
      "source": [
        "print(\"Column names:\", children_stories_df.columns.tolist())"
      ],
      "metadata": {
        "colab": {
          "base_uri": "https://localhost:8080/"
        },
        "id": "HjIiJLaNYcn2",
        "outputId": "5d580e1a-0d7b-4f93-8726-dde2c7af73f6"
      },
      "execution_count": null,
      "outputs": [
        {
          "output_type": "stream",
          "name": "stdout",
          "text": [
            "Column names: ['Title', 'Desc']\n"
          ]
        }
      ]
    },
    {
      "cell_type": "code",
      "source": [
        "combined_df = pd.concat([children_books_df, children_stories_df], ignore_index=True)\n",
        "print(combined_df.head())"
      ],
      "metadata": {
        "colab": {
          "base_uri": "https://localhost:8080/"
        },
        "id": "1FqxinvBYdJg",
        "outputId": "55fb96d6-cfda-4b2e-cc92-de8f63b8e889"
      },
      "execution_count": null,
      "outputs": [
        {
          "output_type": "stream",
          "name": "stdout",
          "text": [
            "                         Title  \\\n",
            "0  The Girl Who Drank the Moon   \n",
            "1              Time Between Us   \n",
            "2            Girl Out of Water   \n",
            "3                      Captive   \n",
            "4          The School of Music   \n",
            "\n",
            "                                                Desc  \n",
            "0  Every year, the evil Protectorate offers a bab...  \n",
            "1  Sixteen-year-old Anna is struggling to underst...  \n",
            "2  Lou Brown's swimming ambitions sank without tr...  \n",
            "3  Robyn is scared. Ever since the attempted assa...  \n",
            "4  Welcome to the School of Music. In charge is M...  \n"
          ]
        }
      ]
    },
    {
      "cell_type": "code",
      "source": [
        "print(\"Column names:\", combined_df.columns.tolist())"
      ],
      "metadata": {
        "colab": {
          "base_uri": "https://localhost:8080/"
        },
        "id": "xH_TQsKDYhAX",
        "outputId": "7c594a66-5ec4-4981-9fc5-858891e47ac5"
      },
      "execution_count": null,
      "outputs": [
        {
          "output_type": "stream",
          "name": "stdout",
          "text": [
            "Column names: ['Title', 'Desc']\n"
          ]
        }
      ]
    },
    {
      "cell_type": "code",
      "source": [
        "null_count = combined_df['Title'].isnull().sum()\n",
        "print(\"Number of null values in the 'Title' column:\", null_count)\n",
        "\n",
        "null_count = combined_df['Desc'].isnull().sum()\n",
        "print(\"Number of null values in the 'Desc' column:\", null_count)"
      ],
      "metadata": {
        "colab": {
          "base_uri": "https://localhost:8080/"
        },
        "id": "r1ef7oVtYhMI",
        "outputId": "1421040f-fd45-4c92-c55b-75352e0e7f67"
      },
      "execution_count": null,
      "outputs": [
        {
          "output_type": "stream",
          "name": "stdout",
          "text": [
            "Number of null values in the 'Title' column: 0\n",
            "Number of null values in the 'Desc' column: 0\n"
          ]
        }
      ]
    },
    {
      "cell_type": "code",
      "source": [
        "print(combined_df)"
      ],
      "metadata": {
        "colab": {
          "base_uri": "https://localhost:8080/"
        },
        "id": "3YYWiOxMYilI",
        "outputId": "14ec228d-c074-444d-b72b-489ed14e8390"
      },
      "execution_count": null,
      "outputs": [
        {
          "output_type": "stream",
          "name": "stdout",
          "text": [
            "                                                 Title  \\\n",
            "0                          The Girl Who Drank the Moon   \n",
            "1                                      Time Between Us   \n",
            "2                                    Girl Out of Water   \n",
            "3                                              Captive   \n",
            "4                                  The School of Music   \n",
            "...                                                ...   \n",
            "3694  Carrying the Elephant: A Memoir of Love and Loss   \n",
            "3695                                      War and Peas   \n",
            "3696                                     Love that Dog   \n",
            "3697                              A Pilgrim's Progress   \n",
            "3698                                    Secret Friends   \n",
            "\n",
            "                                                   Desc  \n",
            "0     Every year, the evil Protectorate offers a bab...  \n",
            "1     Sixteen-year-old Anna is struggling to underst...  \n",
            "2     Lou Brown's swimming ambitions sank without tr...  \n",
            "3     Robyn is scared. Ever since the attempted assa...  \n",
            "4     Welcome to the School of Music. In charge is M...  \n",
            "...                                                 ...  \n",
            "3694  In the 72 prose poems that make up this unusua...  \n",
            "3695  Nearly forty years after its original appearan...  \n",
            "3696  Jack has a great sadness in his life, but he i...  \n",
            "3697  'I had a dream last night ... large enough to ...  \n",
            "3698  At her new school, Rafaella suffers daily name...  \n",
            "\n",
            "[3699 rows x 2 columns]\n"
          ]
        }
      ]
    },
    {
      "cell_type": "code",
      "source": [
        "book_details_df = pd.read_csv('/content/drive/My Drive/AppliedCV_data/book_details.csv', encoding='unicode_escape')"
      ],
      "metadata": {
        "id": "Ta3JoLU6YjtW"
      },
      "execution_count": null,
      "outputs": []
    },
    {
      "cell_type": "code",
      "source": [
        "print(book_details_df.head())"
      ],
      "metadata": {
        "colab": {
          "base_uri": "https://localhost:8080/"
        },
        "id": "peX7WBMMYk4R",
        "outputId": "651aa341-fbb0-4f0f-b856-85acea03eb7a"
      },
      "execution_count": null,
      "outputs": [
        {
          "output_type": "stream",
          "name": "stdout",
          "text": [
            "                    title           author  rating  no_of_ratings  \\\n",
            "0               Divergent    Veronica Roth    4.15        3765886   \n",
            "1           Catching Fire  Suzanne Collins    4.31        3305054   \n",
            "2  The Fault in Our Stars       John Green    4.15        4851513   \n",
            "3   To Kill a Mockingbird       Harper Lee    4.27        5784553   \n",
            "4     The Lightning Thief     Rick Riordan    4.30        2752945   \n",
            "\n",
            "  no_of_reviews                                        description  \\\n",
            "0       117,791  In Beatrice Prior's dystopian Chicago world, s...   \n",
            "1       113,480  Sparks are igniting.Flames are spreading.And t...   \n",
            "2       174,662  Despite the tumor-shrinking medical miracle th...   \n",
            "3       112,055  The unforgettable novel of a childhood in a sl...   \n",
            "4        87,446  Alternate cover for this ISBN can be found her...   \n",
            "\n",
            "                                              genres  \n",
            "0  Young Adult, Dystopia, Fantasy, Fiction, Scien...  \n",
            "1  Young Adult, Dystopia, Fiction, Fantasy, Scien...  \n",
            "2  Young Adult, Romance, Fiction, Contemporary, R...  \n",
            "3  Classics, Fiction, Historical Fiction, School,...  \n",
            "4  Fantasy, Young Adult, Mythology, Fiction, Midd...  \n"
          ]
        }
      ]
    },
    {
      "cell_type": "code",
      "source": [
        "relevant_genres = ['Young Adult', 'Young Adult Paranormal', 'Kids', 'Childrens Classics',\n",
        "    'School Stories', 'Teen', 'Middle Grade', 'Childrens',\n",
        "    'Young Adult Fantasy', 'Young Adult Romance'\n",
        "]"
      ],
      "metadata": {
        "id": "mKvoPfQOYlm6"
      },
      "execution_count": null,
      "outputs": []
    },
    {
      "cell_type": "code",
      "source": [
        "genre_regex = '|'.join(relevant_genres)\n",
        "\n",
        "filtered_df = book_details_df[book_details_df['genres'].str.contains(genre_regex, case=False, na=False)]"
      ],
      "metadata": {
        "id": "Qau4ZUijYmti"
      },
      "execution_count": null,
      "outputs": []
    },
    {
      "cell_type": "code",
      "source": [
        "print(filtered_df)"
      ],
      "metadata": {
        "colab": {
          "base_uri": "https://localhost:8080/"
        },
        "id": "gDmWW1zCYnaU",
        "outputId": "1b489619-b753-45cc-aba8-f4ccb57c0c23"
      },
      "execution_count": null,
      "outputs": [
        {
          "output_type": "stream",
          "name": "stdout",
          "text": [
            "                            title                 author  rating  \\\n",
            "0                       Divergent          Veronica Roth    4.15   \n",
            "1                   Catching Fire        Suzanne Collins    4.31   \n",
            "2          The Fault in Our Stars             John Green    4.15   \n",
            "3           To Kill a Mockingbird             Harper Lee    4.27   \n",
            "4             The Lightning Thief           Rick Riordan    4.30   \n",
            "...                           ...                    ...     ...   \n",
            "13278                   Wet Magic              E. Nesbit    3.75   \n",
            "13284  The Ghost of Dibble Hollow  May Nickerson Wallace    4.41   \n",
            "13295           The Foreshadowing        Marcus Sedgwick    3.80   \n",
            "13321                      Hatter        Daniel  Coleman    3.90   \n",
            "13322                     Shut Up           Anne Tibbets    3.97   \n",
            "\n",
            "       no_of_ratings no_of_reviews  \\\n",
            "0            3765886       117,791   \n",
            "1            3305054       113,480   \n",
            "2            4851513       174,662   \n",
            "3            5784553       112,055   \n",
            "4            2752945        87,446   \n",
            "...              ...           ...   \n",
            "13278            387            43   \n",
            "13284            303            68   \n",
            "13295           2250           261   \n",
            "13321            470            70   \n",
            "13322             86            49   \n",
            "\n",
            "                                             description  \\\n",
            "0      In Beatrice Prior's dystopian Chicago world, s...   \n",
            "1      Sparks are igniting.Flames are spreading.And t...   \n",
            "2      Despite the tumor-shrinking medical miracle th...   \n",
            "3      The unforgettable novel of a childhood in a sl...   \n",
            "4      Alternate cover for this ISBN can be found her...   \n",
            "...                                                  ...   \n",
            "13278  When four siblings journey to the seashore for...   \n",
            "13284  Out of the graveyard comes a ghost--the ghost ...   \n",
            "13295  It is 1915 and the First World War has only ju...   \n",
            "13321  NYT Bestselling Author of Cinder and Heartless...   \n",
            "13322                              Book by Tibbets, Anne   \n",
            "\n",
            "                                                  genres  \n",
            "0      Young Adult, Dystopia, Fantasy, Fiction, Scien...  \n",
            "1      Young Adult, Dystopia, Fiction, Fantasy, Scien...  \n",
            "2      Young Adult, Romance, Fiction, Contemporary, R...  \n",
            "3      Classics, Fiction, Historical Fiction, School,...  \n",
            "4      Fantasy, Young Adult, Mythology, Fiction, Midd...  \n",
            "...                                                  ...  \n",
            "13278  Fantasy, Childrens, Classics, Fiction, Mermaid...  \n",
            "13284  Childrens, Mystery, Fiction, Fantasy, Young Ad...  \n",
            "13295  Historical Fiction, Young Adult, Fantasy, Hist...  \n",
            "13321  Fantasy, Young Adult, Retellings, Fairy Tales,...  \n",
            "13322                                        Young Adult  \n",
            "\n",
            "[2853 rows x 7 columns]\n"
          ]
        }
      ]
    },
    {
      "cell_type": "code",
      "source": [
        "filtered_df = filtered_df[['title', 'description']]\n"
      ],
      "metadata": {
        "id": "zBcPkSfvYoNJ"
      },
      "execution_count": null,
      "outputs": []
    },
    {
      "cell_type": "code",
      "source": [
        "print(filtered_df.head())"
      ],
      "metadata": {
        "colab": {
          "base_uri": "https://localhost:8080/"
        },
        "id": "5WiRe47eYpep",
        "outputId": "65451c29-2c67-4605-98d6-a61b5020513f"
      },
      "execution_count": null,
      "outputs": [
        {
          "output_type": "stream",
          "name": "stdout",
          "text": [
            "                    title                                        description\n",
            "0               Divergent  In Beatrice Prior's dystopian Chicago world, s...\n",
            "1           Catching Fire  Sparks are igniting.Flames are spreading.And t...\n",
            "2  The Fault in Our Stars  Despite the tumor-shrinking medical miracle th...\n",
            "3   To Kill a Mockingbird  The unforgettable novel of a childhood in a sl...\n",
            "4     The Lightning Thief  Alternate cover for this ISBN can be found her...\n"
          ]
        }
      ]
    },
    {
      "cell_type": "code",
      "source": [
        "filtered_df.rename(columns={'title': 'Title', 'description': 'Desc'}, inplace=True)"
      ],
      "metadata": {
        "id": "TAaI94lBYqXR"
      },
      "execution_count": null,
      "outputs": []
    },
    {
      "cell_type": "code",
      "source": [
        "combined_df = pd.concat([combined_df, filtered_df], ignore_index=True)"
      ],
      "metadata": {
        "id": "mqnaJYaLYrgP"
      },
      "execution_count": null,
      "outputs": []
    },
    {
      "cell_type": "code",
      "source": [
        "print(combined_df)"
      ],
      "metadata": {
        "colab": {
          "base_uri": "https://localhost:8080/"
        },
        "id": "d6zzRbmIYscr",
        "outputId": "1ba75679-54c4-4dcd-90df-4b102993cba8"
      },
      "execution_count": null,
      "outputs": [
        {
          "output_type": "stream",
          "name": "stdout",
          "text": [
            "                            Title  \\\n",
            "0     The Girl Who Drank the Moon   \n",
            "1                 Time Between Us   \n",
            "2               Girl Out of Water   \n",
            "3                         Captive   \n",
            "4             The School of Music   \n",
            "...                           ...   \n",
            "6547                    Wet Magic   \n",
            "6548   The Ghost of Dibble Hollow   \n",
            "6549            The Foreshadowing   \n",
            "6550                       Hatter   \n",
            "6551                      Shut Up   \n",
            "\n",
            "                                                   Desc  \n",
            "0     Every year, the evil Protectorate offers a bab...  \n",
            "1     Sixteen-year-old Anna is struggling to underst...  \n",
            "2     Lou Brown's swimming ambitions sank without tr...  \n",
            "3     Robyn is scared. Ever since the attempted assa...  \n",
            "4     Welcome to the School of Music. In charge is M...  \n",
            "...                                                 ...  \n",
            "6547  When four siblings journey to the seashore for...  \n",
            "6548  Out of the graveyard comes a ghost--the ghost ...  \n",
            "6549  It is 1915 and the First World War has only ju...  \n",
            "6550  NYT Bestselling Author of Cinder and Heartless...  \n",
            "6551                              Book by Tibbets, Anne  \n",
            "\n",
            "[6552 rows x 2 columns]\n"
          ]
        }
      ]
    },
    {
      "cell_type": "code",
      "source": [
        "combined_df = combined_df.drop_duplicates(subset=['Title', 'Desc'])"
      ],
      "metadata": {
        "id": "eZMVQhiUYtEb"
      },
      "execution_count": null,
      "outputs": []
    },
    {
      "cell_type": "code",
      "source": [
        "print(combined_df)"
      ],
      "metadata": {
        "colab": {
          "base_uri": "https://localhost:8080/"
        },
        "id": "GUVKMi36Yujj",
        "outputId": "56fa7e55-d35e-4861-a035-39d234bba3a8"
      },
      "execution_count": null,
      "outputs": [
        {
          "output_type": "stream",
          "name": "stdout",
          "text": [
            "                            Title  \\\n",
            "0     The Girl Who Drank the Moon   \n",
            "1                 Time Between Us   \n",
            "2               Girl Out of Water   \n",
            "3                         Captive   \n",
            "4             The School of Music   \n",
            "...                           ...   \n",
            "6547                    Wet Magic   \n",
            "6548   The Ghost of Dibble Hollow   \n",
            "6549            The Foreshadowing   \n",
            "6550                       Hatter   \n",
            "6551                      Shut Up   \n",
            "\n",
            "                                                   Desc  \n",
            "0     Every year, the evil Protectorate offers a bab...  \n",
            "1     Sixteen-year-old Anna is struggling to underst...  \n",
            "2     Lou Brown's swimming ambitions sank without tr...  \n",
            "3     Robyn is scared. Ever since the attempted assa...  \n",
            "4     Welcome to the School of Music. In charge is M...  \n",
            "...                                                 ...  \n",
            "6547  When four siblings journey to the seashore for...  \n",
            "6548  Out of the graveyard comes a ghost--the ghost ...  \n",
            "6549  It is 1915 and the First World War has only ju...  \n",
            "6550  NYT Bestselling Author of Cinder and Heartless...  \n",
            "6551                              Book by Tibbets, Anne  \n",
            "\n",
            "[3287 rows x 2 columns]\n"
          ]
        }
      ]
    },
    {
      "cell_type": "code",
      "source": [
        "# Drop rows where 'Desc' column is None\n",
        "combined_df = combined_df.dropna(subset=['Desc'])"
      ],
      "metadata": {
        "id": "otREXRzrYvh0"
      },
      "execution_count": null,
      "outputs": []
    },
    {
      "cell_type": "code",
      "source": [
        "print(combined_df.head())"
      ],
      "metadata": {
        "colab": {
          "base_uri": "https://localhost:8080/"
        },
        "id": "TGwIsvClY03T",
        "outputId": "21b83119-9a7e-4f01-adb8-5b96c43bb430"
      },
      "execution_count": null,
      "outputs": [
        {
          "output_type": "stream",
          "name": "stdout",
          "text": [
            "                         Title  \\\n",
            "0  The Girl Who Drank the Moon   \n",
            "1              Time Between Us   \n",
            "2            Girl Out of Water   \n",
            "3                      Captive   \n",
            "4          The School of Music   \n",
            "\n",
            "                                                Desc  \n",
            "0  Every year, the evil Protectorate offers a bab...  \n",
            "1  Sixteen-year-old Anna is struggling to underst...  \n",
            "2  Lou Brown's swimming ambitions sank without tr...  \n",
            "3  Robyn is scared. Ever since the attempted assa...  \n",
            "4  Welcome to the School of Music. In charge is M...  \n"
          ]
        }
      ]
    },
    {
      "cell_type": "code",
      "source": [
        "# preprocess text\n",
        "import re\n",
        "# Remove undesired special characters but keep alphanumeric, spaces, and common punctuation\n",
        "combined_df['Desc'] = combined_df['Desc'].apply(lambda x: re.sub(r'[^a-zA-Z0-9\\s,.?!;:()-]', ' ', x))\n",
        "\n",
        "# Substitute multiple spaces with a single space\n",
        "combined_df['Desc'] = combined_df['Desc'].apply(lambda x: re.sub(r'\\s+', ' ', x).strip())\n",
        "\n",
        "# Display the cleaned DataFrame\n",
        "print(combined_df)"
      ],
      "metadata": {
        "colab": {
          "base_uri": "https://localhost:8080/"
        },
        "id": "U-6MxuQlY1kM",
        "outputId": "68ebc4d0-0b31-4e67-f4d2-18f6fbd949e6"
      },
      "execution_count": null,
      "outputs": [
        {
          "output_type": "stream",
          "name": "stdout",
          "text": [
            "                            Title  \\\n",
            "0     The Girl Who Drank the Moon   \n",
            "1                 Time Between Us   \n",
            "2               Girl Out of Water   \n",
            "3                         Captive   \n",
            "4             The School of Music   \n",
            "...                           ...   \n",
            "6547                    Wet Magic   \n",
            "6548   The Ghost of Dibble Hollow   \n",
            "6549            The Foreshadowing   \n",
            "6550                       Hatter   \n",
            "6551                      Shut Up   \n",
            "\n",
            "                                                   Desc  \n",
            "0     Every year, the evil Protectorate offers a bab...  \n",
            "1     Sixteen-year-old Anna is struggling to underst...  \n",
            "2     Lou Brown s swimming ambitions sank without tr...  \n",
            "3     Robyn is scared. Ever since the attempted assa...  \n",
            "4     Welcome to the School of Music. In charge is M...  \n",
            "...                                                 ...  \n",
            "6547  When four siblings journey to the seashore for...  \n",
            "6548  Out of the graveyard comes a ghost--the ghost ...  \n",
            "6549  It is 1915 and the First World War has only ju...  \n",
            "6550  NYT Bestselling Author of Cinder and Heartless...  \n",
            "6551                              Book by Tibbets, Anne  \n",
            "\n",
            "[3281 rows x 2 columns]\n"
          ]
        }
      ]
    },
    {
      "cell_type": "code",
      "source": [
        "#spli into dev and test\n",
        "dev_df, test_df = train_test_split(combined_df, test_size=0.20, random_state=42)\n",
        "# split dev into train and validation\n",
        "train_df, val_df = train_test_split(dev_df, test_size=0.25, random_state=42)\n",
        "\n",
        "\n",
        "print(\"Training Set Shape:\", train_df.shape)\n",
        "print(\"Validation Set Shape:\", val_df.shape)\n",
        "print(\"Test Set Shape:\", test_df.shape)"
      ],
      "metadata": {
        "colab": {
          "base_uri": "https://localhost:8080/"
        },
        "id": "R64z0dWUY8HB",
        "outputId": "e111e649-369b-436a-e507-f1e2cb28fa39"
      },
      "execution_count": null,
      "outputs": [
        {
          "output_type": "stream",
          "name": "stdout",
          "text": [
            "Training Set Shape: (1968, 2)\n",
            "Validation Set Shape: (656, 2)\n",
            "Test Set Shape: (657, 2)\n"
          ]
        }
      ]
    },
    {
      "cell_type": "code",
      "source": [
        "class T5BookDataset(torch.utils.data.Dataset):\n",
        "    def __init__(self, tokenizer, dataframe, max_length=512):\n",
        "        self.tokenizer = tokenizer\n",
        "        self.data = dataframe\n",
        "        self.title_texts = self.data['Title'].tolist()\n",
        "        self.desc_texts = self.data['Desc'].tolist()\n",
        "        self.max_length = max_length\n",
        "\n",
        "    def __len__(self):\n",
        "        return len(self.desc_texts)\n",
        "\n",
        "    def __getitem__(self, idx):\n",
        "        source_encoding = self.tokenizer(\n",
        "            f\"generate title: {self.desc_texts[idx]}\",\n",
        "            max_length=self.max_length,\n",
        "            padding='max_length',\n",
        "            truncation=True,\n",
        "            return_tensors=\"pt\"\n",
        "        )\n",
        "        target_encoding = self.tokenizer(\n",
        "            self.title_texts[idx],\n",
        "            max_length=64,\n",
        "            padding='max_length',\n",
        "            truncation=True,\n",
        "            return_tensors=\"pt\"\n",
        "        )\n",
        "\n",
        "        source_ids = source_encoding['input_ids'].squeeze()\n",
        "        target_ids = target_encoding['input_ids'].squeeze()\n",
        "\n",
        "        return {\"input_ids\": source_ids, \"attention_mask\": source_encoding['attention_mask'].squeeze(), \"labels\": target_ids}\n",
        "\n",
        "# Tokenizer and model setup\n",
        "tokenizer = T5Tokenizer.from_pretrained('t5-base')\n",
        "train_dataset = T5BookDataset(tokenizer, train_df)\n",
        "val_dataset = T5BookDataset(tokenizer, val_df)\n",
        "test_dataset = T5BookDataset(tokenizer, test_df)"
      ],
      "metadata": {
        "id": "La_x-bheY8ba"
      },
      "execution_count": null,
      "outputs": []
    },
    {
      "cell_type": "code",
      "source": [
        "device = torch.device(\"cuda\" if torch.cuda.is_available() else \"cpu\")\n",
        "print(device)\n",
        "model = T5ForConditionalGeneration.from_pretrained('t5-base').to(device)"
      ],
      "metadata": {
        "colab": {
          "base_uri": "https://localhost:8080/"
        },
        "id": "mNe3R11bY9Sy",
        "outputId": "207db8cd-781b-4abb-b7f1-a2f06a8e2381"
      },
      "execution_count": null,
      "outputs": [
        {
          "output_type": "stream",
          "name": "stdout",
          "text": [
            "cuda\n"
          ]
        }
      ]
    },
    {
      "cell_type": "code",
      "source": [
        "from transformers import AdamW\n",
        "from tqdm.auto import tqdm"
      ],
      "metadata": {
        "id": "Nh_KlplQY-zu"
      },
      "execution_count": null,
      "outputs": []
    },
    {
      "cell_type": "code",
      "source": [
        "# Optimizer setup\n",
        "optimizer = torch.optim.AdamW(model.parameters(), lr=5e-5)"
      ],
      "metadata": {
        "id": "i1WsxFw7Y_1b"
      },
      "execution_count": null,
      "outputs": []
    },
    {
      "cell_type": "code",
      "source": [
        "# train and validation dataloader\n",
        "train_loader = DataLoader(train_dataset, batch_size=2, shuffle=True)\n",
        "val_loader = DataLoader(val_dataset, batch_size=2)"
      ],
      "metadata": {
        "id": "tlIwQCGHZJ2Y"
      },
      "execution_count": null,
      "outputs": []
    },
    {
      "cell_type": "code",
      "source": [
        "# Training loop\n",
        "num_epochs = 5"
      ],
      "metadata": {
        "id": "36NttxRhZK-z"
      },
      "execution_count": null,
      "outputs": []
    },
    {
      "cell_type": "code",
      "source": [
        "best_val_loss = float('inf')\n",
        "for epoch in range(num_epochs):\n",
        "    model.train()\n",
        "    total_train_loss = 0\n",
        "    for batch in tqdm(train_loader, desc=f\"Training Epoch {epoch + 1}\"):\n",
        "        optimizer.zero_grad()\n",
        "        input_ids = batch['input_ids'].to(device)\n",
        "        attention_mask = batch['attention_mask'].to(device)\n",
        "        labels = batch['labels'].to(device)\n",
        "\n",
        "        outputs = model(input_ids=input_ids, attention_mask=attention_mask, labels=labels)\n",
        "        loss = outputs.loss\n",
        "        loss.backward()\n",
        "        optimizer.step()\n",
        "\n",
        "        total_train_loss += loss.item()\n",
        "\n",
        "    avg_train_loss = total_train_loss / len(train_loader)\n",
        "    print(f\"Epoch {epoch + 1} - Average Training Loss: {avg_train_loss:.4f}\")\n",
        "\n",
        "    model.eval()\n",
        "    total_val_loss = 0\n",
        "    with torch.no_grad():\n",
        "        for batch in tqdm(val_loader, desc=f\"Validating Epoch {epoch + 1}\"):\n",
        "            input_ids = batch['input_ids'].to(device)\n",
        "            attention_mask = batch['attention_mask'].to(device)\n",
        "            labels = batch['labels'].to(device)\n",
        "\n",
        "            outputs = model(input_ids=input_ids, attention_mask=attention_mask, labels=labels)\n",
        "            val_loss = outputs.loss\n",
        "            total_val_loss += val_loss.item()\n",
        "\n",
        "    avg_val_loss = total_val_loss / len(val_loader)\n",
        "    print(f\"Epoch {epoch + 1} - Average Validation Loss: {avg_val_loss:.4f}\")\n",
        "\n",
        "    if avg_val_loss < best_val_loss:\n",
        "        best_val_loss = avg_val_loss\n",
        "        model.save_pretrained('./best_model')"
      ],
      "metadata": {
        "colab": {
          "base_uri": "https://localhost:8080/",
          "height": 510,
          "referenced_widgets": [
            "84840b4635b74358ba61aeea83fb4695",
            "c40967e17d264af5b8eb1f4ff1fedc6d",
            "a603ae63e89c4a99a16d5c961cd94d2a",
            "5f92e4d1cfb84837bb9f0d20f7c0b55f",
            "26cc98ecc55246b28f9308002a1a5a6a",
            "e22df2ce7f71464a99b5c931a76f8c5a",
            "6b0e2862a4a44937bb1a6f93802f2af4",
            "16034d1544e64c08ad28b6ebeed82633",
            "4215e1e722664081b2300269bd1f1589",
            "6829bf8c64fd414db56a51f9c5f5a67d",
            "bb7b206fdb50435aabb258e6f8049774",
            "bd720764d79b44c691522b1e8c5ada7c",
            "1508105ecb434d2bb818232f91b47da8",
            "a41c229c461b4b27a1d8e7ca6b3a3381",
            "cce2b50aeead417995367a94815842c8",
            "c672a4823f864d61a1aeb3ba4b60e4d7",
            "461a7e15f3624dc7a135f0451365ee20",
            "995cc92f8d2d43308cfdedbe3e392352",
            "f6027ebfd2474dd9b3cf0792cac1a5b6",
            "4db0c782729f464d8f6bcdd1657b5cfc",
            "4eb98d48510247d584ace6ffc1e5baf7",
            "3a88e69e13bc4e0fb75b9251451ee26a",
            "fffa6903cbf0402e8b3cafb29f7f0143",
            "85bc8f21d0d14a81af7ac6a13bfa2dd5",
            "f0b49970d27c4e5197256d5a70a0aa89",
            "915799adf77744628d58d5a0fa50e7d5",
            "99dab1e26e8647cfaa29ba6a8a056211",
            "5c3b3f514589448ca628c2a9f4f2f854",
            "4b3e313d7b8b47e3a2eb38e864669305",
            "4c75cdb6bc5644098cff419d04e6b811",
            "8bab415937bf4c589802914163cc7fb8",
            "ac297ed3917341a3bfbd9b9508835f5d",
            "04157957733f44d589d4002771374492",
            "c26f0fd3e23e43388a8f26ced5b67c93",
            "433dcb6113cf4651aa6bb86ded92c8f3",
            "a60c00fff69a4f74924aab961a9f51f7",
            "70936379b9164f4890d85f2638f15ddd",
            "a74928eb67cd40f783029bc5173a8a2b",
            "dbf0359f6fa849f1ad04acf3f67624db",
            "9718fa6f6b5f48c29dd13de8bb5b149f",
            "55fa3b569cf045558745a6b6c64aa5a6",
            "75dff9e01bb046949b5e42cf057acd76",
            "a20520ef09f14ad2bdd4936cafac0b3a",
            "0bdf00ccd58c494fa9d0ac30633b6bca",
            "1656de672ee94d4ab2f29583b0ef357b",
            "0756d39946c94c1cb520acc5d7903336",
            "89d643dcce7a45fea448d9cd57ab3ce6",
            "7543aa96d0e643a0b92510e6b93cb538",
            "302e46232b0946dc81d6e06e95d51f8a",
            "0d4af7c3edc040de980d2a40ee635535",
            "2ba08db8df8f4f159bf58df00b987d16",
            "beec23e8468242068cbc4c69bebebcdc",
            "5064b5e4edde43cd8c37843b3ef954d1",
            "7b0366ec7ac64cb08856d192644dd55a",
            "182287a2043048918ee7a9cdf28e5228",
            "2bf6fcda92474e5fa744e4cd3d38d717",
            "178c05ce97864512af198c443b012e9a",
            "222b44918f5c4ca2b321fab20ab6bcc5",
            "87cc29f6fb9346f18eaeb80fdf90a9e0",
            "6ac2460c3c23434481e97122da00ad36",
            "b3a19e5b13f84bdd9906efe2988edbbf",
            "a22b415fe7334ba289cd33c1caf8f3b5",
            "9b9c6fc22cc145bea619c07254c5e761",
            "ab122f308df54b85a863fa70d9ea2f6d",
            "adb894dc25114d838b5ba6e130a5a1c3",
            "eb6b9eadf7cf42f8990e7806f72171fa",
            "027b59bb9b4841aeb9693bce2c214e5a",
            "ece4aff19c454930a42eb84dc7a07a08",
            "4b0c8968347e4de48df1829a1f73a5d1",
            "03f5a0e482fc4cb99eb7b438d9f8fe38",
            "56b062c2d16d4eafa0c3421498feeb34",
            "4ff99fde19e7493c945ee37889fd74c0",
            "5368e0cd4279404585c73935ef093b02",
            "15125a68a8d24c8192fbedde6073a99f",
            "f738d05b47794fbea7a9d33d4d0d3f03",
            "c62df2d932064b809efc4194b026ddab",
            "e9a3118acdfc46b4880786c6f3bf29ca",
            "ef3736a31c054d0ba32dec6935c5c7ea",
            "4b6ca78f7ecb4f2bb59de5ff68b38d6b",
            "a6e92ede93db4672976bdc64506e9080",
            "9b5b3d5f75704063947123ecdabca600",
            "1f373e8c96dd4f14a5130d8f285e73ca",
            "cb294405ceda4ba19706953d4e5a82fa",
            "26caab2638bd4b339dfddc87ebca3756",
            "153dfe7e51c149a6b3543912ed766bc0",
            "d7dace637210481695420fc4571a202c",
            "b00f109c71224008ba81503badcf2161",
            "561ecc4ac9c147b9ae6a818ca014dccc",
            "2cf0d35e1ab143ae990271d5a480388c",
            "d31d5b9c4eff49dbab534fc3d4d3f4ad",
            "c65b86119d9b487a9645c6735be9a247",
            "d92c7bbbd3a64bb6bd3ee51ab287eb63",
            "c0ce286a63ad4da1b9d7d999ac0a72d8",
            "bcb510af9e1a432884d3296754d6a56c",
            "94e08cb356d84cb2bb06a7dad6023079",
            "e4d5e78f82464d0dafa25eb30dc277d1",
            "abf17d6e576348c09530a53f15b11483",
            "50c21aa35d8a412a9aa39f684e883569",
            "16e5f8358eb340b58daf8392b88a4d58",
            "726634251c554f4bb23194dbcec7b045",
            "078c835c8b324b4c871a7c52d95dbe80",
            "bb0dc2a8f1054e42ac6964605f641992",
            "2eccaf1761754f899e9332451ff675f1",
            "0e1875b52e084546be4ecd0396ff6155",
            "59212baa1d11451a8cd31d895f5b3d98",
            "2dc4b47cf9fe4ed4a43de902a824c9b2",
            "a4e2d22a74284837ac240bdf65c1ee51",
            "32ec157dc8e648f0b3601fb2ae3bdc7b",
            "ce412f360ded45eeb25e6a35011dbb03",
            "07cde8444f3740499eaff5659d9f6c46"
          ]
        },
        "id": "08KKtn_OZMQT",
        "outputId": "892155b3-c032-493a-dfb4-ecf7877d20b2"
      },
      "execution_count": null,
      "outputs": [
        {
          "output_type": "display_data",
          "data": {
            "text/plain": [
              "Training Epoch 1:   0%|          | 0/984 [00:00<?, ?it/s]"
            ],
            "application/vnd.jupyter.widget-view+json": {
              "version_major": 2,
              "version_minor": 0,
              "model_id": "84840b4635b74358ba61aeea83fb4695"
            }
          },
          "metadata": {}
        },
        {
          "output_type": "stream",
          "name": "stdout",
          "text": [
            "Epoch 1 - Average Training Loss: 0.5987\n"
          ]
        },
        {
          "output_type": "display_data",
          "data": {
            "text/plain": [
              "Validating Epoch 1:   0%|          | 0/328 [00:00<?, ?it/s]"
            ],
            "application/vnd.jupyter.widget-view+json": {
              "version_major": 2,
              "version_minor": 0,
              "model_id": "bd720764d79b44c691522b1e8c5ada7c"
            }
          },
          "metadata": {}
        },
        {
          "output_type": "stream",
          "name": "stdout",
          "text": [
            "Epoch 1 - Average Validation Loss: 0.2354\n"
          ]
        },
        {
          "output_type": "display_data",
          "data": {
            "text/plain": [
              "Training Epoch 2:   0%|          | 0/984 [00:00<?, ?it/s]"
            ],
            "application/vnd.jupyter.widget-view+json": {
              "version_major": 2,
              "version_minor": 0,
              "model_id": "fffa6903cbf0402e8b3cafb29f7f0143"
            }
          },
          "metadata": {}
        },
        {
          "output_type": "stream",
          "name": "stdout",
          "text": [
            "Epoch 2 - Average Training Loss: 0.2355\n"
          ]
        },
        {
          "output_type": "display_data",
          "data": {
            "text/plain": [
              "Validating Epoch 2:   0%|          | 0/328 [00:00<?, ?it/s]"
            ],
            "application/vnd.jupyter.widget-view+json": {
              "version_major": 2,
              "version_minor": 0,
              "model_id": "c26f0fd3e23e43388a8f26ced5b67c93"
            }
          },
          "metadata": {}
        },
        {
          "output_type": "stream",
          "name": "stdout",
          "text": [
            "Epoch 2 - Average Validation Loss: 0.2234\n"
          ]
        },
        {
          "output_type": "display_data",
          "data": {
            "text/plain": [
              "Training Epoch 3:   0%|          | 0/984 [00:00<?, ?it/s]"
            ],
            "application/vnd.jupyter.widget-view+json": {
              "version_major": 2,
              "version_minor": 0,
              "model_id": "1656de672ee94d4ab2f29583b0ef357b"
            }
          },
          "metadata": {}
        },
        {
          "output_type": "stream",
          "name": "stdout",
          "text": [
            "Epoch 3 - Average Training Loss: 0.2094\n"
          ]
        },
        {
          "output_type": "display_data",
          "data": {
            "text/plain": [
              "Validating Epoch 3:   0%|          | 0/328 [00:00<?, ?it/s]"
            ],
            "application/vnd.jupyter.widget-view+json": {
              "version_major": 2,
              "version_minor": 0,
              "model_id": "2bf6fcda92474e5fa744e4cd3d38d717"
            }
          },
          "metadata": {}
        },
        {
          "output_type": "stream",
          "name": "stdout",
          "text": [
            "Epoch 3 - Average Validation Loss: 0.2249\n"
          ]
        },
        {
          "output_type": "display_data",
          "data": {
            "text/plain": [
              "Training Epoch 4:   0%|          | 0/984 [00:00<?, ?it/s]"
            ],
            "application/vnd.jupyter.widget-view+json": {
              "version_major": 2,
              "version_minor": 0,
              "model_id": "027b59bb9b4841aeb9693bce2c214e5a"
            }
          },
          "metadata": {}
        },
        {
          "output_type": "stream",
          "name": "stdout",
          "text": [
            "Epoch 4 - Average Training Loss: 0.1856\n"
          ]
        },
        {
          "output_type": "display_data",
          "data": {
            "text/plain": [
              "Validating Epoch 4:   0%|          | 0/328 [00:00<?, ?it/s]"
            ],
            "application/vnd.jupyter.widget-view+json": {
              "version_major": 2,
              "version_minor": 0,
              "model_id": "ef3736a31c054d0ba32dec6935c5c7ea"
            }
          },
          "metadata": {}
        },
        {
          "output_type": "stream",
          "name": "stdout",
          "text": [
            "Epoch 4 - Average Validation Loss: 0.2248\n"
          ]
        },
        {
          "output_type": "display_data",
          "data": {
            "text/plain": [
              "Training Epoch 5:   0%|          | 0/984 [00:00<?, ?it/s]"
            ],
            "application/vnd.jupyter.widget-view+json": {
              "version_major": 2,
              "version_minor": 0,
              "model_id": "2cf0d35e1ab143ae990271d5a480388c"
            }
          },
          "metadata": {}
        },
        {
          "output_type": "stream",
          "name": "stdout",
          "text": [
            "Epoch 5 - Average Training Loss: 0.1635\n"
          ]
        },
        {
          "output_type": "display_data",
          "data": {
            "text/plain": [
              "Validating Epoch 5:   0%|          | 0/328 [00:00<?, ?it/s]"
            ],
            "application/vnd.jupyter.widget-view+json": {
              "version_major": 2,
              "version_minor": 0,
              "model_id": "726634251c554f4bb23194dbcec7b045"
            }
          },
          "metadata": {}
        },
        {
          "output_type": "stream",
          "name": "stdout",
          "text": [
            "Epoch 5 - Average Validation Loss: 0.2307\n"
          ]
        }
      ]
    },
    {
      "cell_type": "code",
      "source": [
        "# method to generate predicted text output using T5 model\n",
        "def generate_text(input_ids, model, tokenizer, device):\n",
        "    outputs = model.generate(\n",
        "        input_ids=input_ids,\n",
        "        attention_mask=input_ids.ne(tokenizer.pad_token_id),\n",
        "        max_length=64,\n",
        "        num_beams=5,\n",
        "        no_repeat_ngram_size=2\n",
        "    )\n",
        "    # return the decded strings for each output in the batch, remove special tokens and clean up spaces\n",
        "    return [tokenizer.decode(g, skip_special_tokens=True, clean_up_tokenization_spaces=True) for g in outputs]"
      ],
      "metadata": {
        "id": "eeK2zD97ZSWJ"
      },
      "execution_count": null,
      "outputs": []
    },
    {
      "cell_type": "code",
      "source": [
        "# load the model\n",
        "model = T5ForConditionalGeneration.from_pretrained('./best_model').to(device)\n",
        "# test dataloader\n",
        "test_loader = DataLoader(test_dataset, batch_size=4)\n",
        "\n",
        "rouge = rouge_scorer.RougeScorer(['rouge1', 'rougeL'], use_stemmer=True)\n",
        "\n",
        "model.eval()\n",
        "bleu_references = []\n",
        "bleu_candidates = []\n",
        "rouge_scores = []\n",
        "\n",
        "# evaluation loop\n",
        "with torch.no_grad():\n",
        "    for batch in tqdm(test_loader, desc=\"Testing\"):\n",
        "        input_ids = batch['input_ids'].to(device)\n",
        "        labels = batch['labels'].to(device)\n",
        "\n",
        "        predictions = generate_text(input_ids, model, tokenizer, device)\n",
        "        references = [tokenizer.decode(l, skip_special_tokens=True, clean_up_tokenization_spaces=True) for l in labels]\n",
        "\n",
        "        # Check to print out the counts\n",
        "        print(f\"Generated {len(predictions)} predictions for {len(references)} references.\")\n",
        "\n",
        "        # Collect references and candidates where both exist\n",
        "        for ref, pred in zip(references, predictions):\n",
        "            if ref and pred:  # Make sure neither is empty\n",
        "                bleu_references.append([ref.split()])\n",
        "                bleu_candidates.append(pred.split())\n",
        "                scores = rouge.score(ref, pred)\n",
        "                rouge_scores.append(scores)\n",
        "\n",
        "if bleu_references and bleu_candidates:\n",
        "    bleu_score = corpus_bleu(bleu_references, bleu_candidates)\n",
        "    avg_rouge1 = sum(score['rouge1'].fmeasure for score in rouge_scores) / len(rouge_scores)\n",
        "    avg_rougeL = sum(score['rougeL'].fmeasure for score in rouge_scores) / len(rouge_scores)\n",
        "    print(f\"Average BLEU Score: {bleu_score:.4f}\")\n",
        "    print(f\"Average ROUGE-1 F1: {avg_rouge1:.4f}\")\n",
        "    print(f\"Average ROUGE-L F1: {avg_rougeL:.4f}\")\n",
        "else:\n",
        "    print(\"No valid predictions and references were found for evaluation.\")"
      ],
      "metadata": {
        "colab": {
          "base_uri": "https://localhost:8080/",
          "height": 1000,
          "referenced_widgets": [
            "092c1a28e2e840a79d39dd88d2780f35",
            "fe300c9cee7441788374e7ba8bff35ff",
            "8273352c31a2452c9ea92533f29378cc",
            "2da1b0ddad3441dbbee25adab108d27a",
            "bfe0e0672e6247d8b019c99da0fa8a75",
            "a6e02f4c8ecd4d49a55a0cb5f62f85a7",
            "12f068e9a726405d8f2ebdcc8927a29e",
            "df92b917840549e087edd75a58dca7e2",
            "2032739d67c948bd9956cbd5ef46f8a1",
            "12529cbcd31d42b290529546b516025c",
            "67e2ef3a3ed3454ba2295f7a4fea9eb0"
          ]
        },
        "id": "Ya62zEUaZT-3",
        "outputId": "803693c2-3f18-4378-e2d7-44c1aa57a36d"
      },
      "execution_count": null,
      "outputs": [
        {
          "output_type": "display_data",
          "data": {
            "text/plain": [
              "Testing:   0%|          | 0/165 [00:00<?, ?it/s]"
            ],
            "application/vnd.jupyter.widget-view+json": {
              "version_major": 2,
              "version_minor": 0,
              "model_id": "092c1a28e2e840a79d39dd88d2780f35"
            }
          },
          "metadata": {}
        },
        {
          "output_type": "stream",
          "name": "stdout",
          "text": [
            "Generated 4 predictions for 4 references.\n",
            "Generated 4 predictions for 4 references.\n",
            "Generated 4 predictions for 4 references.\n",
            "Generated 4 predictions for 4 references.\n",
            "Generated 4 predictions for 4 references.\n",
            "Generated 4 predictions for 4 references.\n",
            "Generated 4 predictions for 4 references.\n",
            "Generated 4 predictions for 4 references.\n",
            "Generated 4 predictions for 4 references.\n",
            "Generated 4 predictions for 4 references.\n",
            "Generated 4 predictions for 4 references.\n",
            "Generated 4 predictions for 4 references.\n",
            "Generated 4 predictions for 4 references.\n",
            "Generated 4 predictions for 4 references.\n",
            "Generated 4 predictions for 4 references.\n",
            "Generated 4 predictions for 4 references.\n",
            "Generated 4 predictions for 4 references.\n",
            "Generated 4 predictions for 4 references.\n",
            "Generated 4 predictions for 4 references.\n",
            "Generated 4 predictions for 4 references.\n",
            "Generated 4 predictions for 4 references.\n",
            "Generated 4 predictions for 4 references.\n",
            "Generated 4 predictions for 4 references.\n",
            "Generated 4 predictions for 4 references.\n",
            "Generated 4 predictions for 4 references.\n",
            "Generated 4 predictions for 4 references.\n",
            "Generated 4 predictions for 4 references.\n",
            "Generated 4 predictions for 4 references.\n",
            "Generated 4 predictions for 4 references.\n",
            "Generated 4 predictions for 4 references.\n",
            "Generated 4 predictions for 4 references.\n",
            "Generated 4 predictions for 4 references.\n",
            "Generated 4 predictions for 4 references.\n",
            "Generated 4 predictions for 4 references.\n",
            "Generated 4 predictions for 4 references.\n",
            "Generated 4 predictions for 4 references.\n",
            "Generated 4 predictions for 4 references.\n",
            "Generated 4 predictions for 4 references.\n",
            "Generated 4 predictions for 4 references.\n",
            "Generated 4 predictions for 4 references.\n",
            "Generated 4 predictions for 4 references.\n",
            "Generated 4 predictions for 4 references.\n",
            "Generated 4 predictions for 4 references.\n",
            "Generated 4 predictions for 4 references.\n",
            "Generated 4 predictions for 4 references.\n",
            "Generated 4 predictions for 4 references.\n",
            "Generated 4 predictions for 4 references.\n",
            "Generated 4 predictions for 4 references.\n",
            "Generated 4 predictions for 4 references.\n",
            "Generated 4 predictions for 4 references.\n",
            "Generated 4 predictions for 4 references.\n",
            "Generated 4 predictions for 4 references.\n",
            "Generated 4 predictions for 4 references.\n",
            "Generated 4 predictions for 4 references.\n",
            "Generated 4 predictions for 4 references.\n",
            "Generated 4 predictions for 4 references.\n",
            "Generated 4 predictions for 4 references.\n",
            "Generated 4 predictions for 4 references.\n",
            "Generated 4 predictions for 4 references.\n",
            "Generated 4 predictions for 4 references.\n",
            "Generated 4 predictions for 4 references.\n",
            "Generated 4 predictions for 4 references.\n",
            "Generated 4 predictions for 4 references.\n",
            "Generated 4 predictions for 4 references.\n",
            "Generated 4 predictions for 4 references.\n",
            "Generated 4 predictions for 4 references.\n",
            "Generated 4 predictions for 4 references.\n",
            "Generated 4 predictions for 4 references.\n",
            "Generated 4 predictions for 4 references.\n",
            "Generated 4 predictions for 4 references.\n",
            "Generated 4 predictions for 4 references.\n",
            "Generated 4 predictions for 4 references.\n",
            "Generated 4 predictions for 4 references.\n",
            "Generated 4 predictions for 4 references.\n",
            "Generated 4 predictions for 4 references.\n",
            "Generated 4 predictions for 4 references.\n",
            "Generated 4 predictions for 4 references.\n",
            "Generated 4 predictions for 4 references.\n",
            "Generated 4 predictions for 4 references.\n",
            "Generated 4 predictions for 4 references.\n",
            "Generated 4 predictions for 4 references.\n",
            "Generated 4 predictions for 4 references.\n",
            "Generated 4 predictions for 4 references.\n",
            "Generated 4 predictions for 4 references.\n",
            "Generated 4 predictions for 4 references.\n",
            "Generated 4 predictions for 4 references.\n",
            "Generated 4 predictions for 4 references.\n",
            "Generated 4 predictions for 4 references.\n",
            "Generated 4 predictions for 4 references.\n",
            "Generated 4 predictions for 4 references.\n",
            "Generated 4 predictions for 4 references.\n",
            "Generated 4 predictions for 4 references.\n",
            "Generated 4 predictions for 4 references.\n",
            "Generated 4 predictions for 4 references.\n",
            "Generated 4 predictions for 4 references.\n",
            "Generated 4 predictions for 4 references.\n",
            "Generated 4 predictions for 4 references.\n",
            "Generated 4 predictions for 4 references.\n",
            "Generated 4 predictions for 4 references.\n",
            "Generated 4 predictions for 4 references.\n",
            "Generated 4 predictions for 4 references.\n",
            "Generated 4 predictions for 4 references.\n",
            "Generated 4 predictions for 4 references.\n",
            "Generated 4 predictions for 4 references.\n",
            "Generated 4 predictions for 4 references.\n",
            "Generated 4 predictions for 4 references.\n",
            "Generated 4 predictions for 4 references.\n",
            "Generated 4 predictions for 4 references.\n",
            "Generated 4 predictions for 4 references.\n",
            "Generated 4 predictions for 4 references.\n",
            "Generated 4 predictions for 4 references.\n",
            "Generated 4 predictions for 4 references.\n",
            "Generated 4 predictions for 4 references.\n",
            "Generated 4 predictions for 4 references.\n",
            "Generated 4 predictions for 4 references.\n",
            "Generated 4 predictions for 4 references.\n",
            "Generated 4 predictions for 4 references.\n",
            "Generated 4 predictions for 4 references.\n",
            "Generated 4 predictions for 4 references.\n",
            "Generated 4 predictions for 4 references.\n",
            "Generated 4 predictions for 4 references.\n",
            "Generated 4 predictions for 4 references.\n",
            "Generated 4 predictions for 4 references.\n",
            "Generated 4 predictions for 4 references.\n",
            "Generated 4 predictions for 4 references.\n",
            "Generated 4 predictions for 4 references.\n",
            "Generated 4 predictions for 4 references.\n",
            "Generated 4 predictions for 4 references.\n",
            "Generated 4 predictions for 4 references.\n",
            "Generated 4 predictions for 4 references.\n",
            "Generated 4 predictions for 4 references.\n",
            "Generated 4 predictions for 4 references.\n",
            "Generated 4 predictions for 4 references.\n",
            "Generated 4 predictions for 4 references.\n",
            "Generated 4 predictions for 4 references.\n",
            "Generated 4 predictions for 4 references.\n",
            "Generated 4 predictions for 4 references.\n",
            "Generated 4 predictions for 4 references.\n",
            "Generated 4 predictions for 4 references.\n",
            "Generated 4 predictions for 4 references.\n",
            "Generated 4 predictions for 4 references.\n",
            "Generated 4 predictions for 4 references.\n",
            "Generated 4 predictions for 4 references.\n",
            "Generated 4 predictions for 4 references.\n",
            "Generated 4 predictions for 4 references.\n",
            "Generated 4 predictions for 4 references.\n",
            "Generated 4 predictions for 4 references.\n",
            "Generated 4 predictions for 4 references.\n",
            "Generated 4 predictions for 4 references.\n",
            "Generated 4 predictions for 4 references.\n",
            "Generated 4 predictions for 4 references.\n",
            "Generated 4 predictions for 4 references.\n",
            "Generated 4 predictions for 4 references.\n",
            "Generated 4 predictions for 4 references.\n",
            "Generated 4 predictions for 4 references.\n",
            "Generated 4 predictions for 4 references.\n",
            "Generated 4 predictions for 4 references.\n",
            "Generated 4 predictions for 4 references.\n",
            "Generated 4 predictions for 4 references.\n",
            "Generated 4 predictions for 4 references.\n",
            "Generated 4 predictions for 4 references.\n",
            "Generated 4 predictions for 4 references.\n",
            "Generated 4 predictions for 4 references.\n",
            "Generated 4 predictions for 4 references.\n",
            "Generated 1 predictions for 1 references.\n",
            "Average BLEU Score: 0.1536\n",
            "Average ROUGE-1 F1: 0.3341\n",
            "Average ROUGE-L F1: 0.3322\n"
          ]
        }
      ]
    },
    {
      "cell_type": "code",
      "source": [
        "def generate_book_title(description, model, tokenizer, device):\n",
        "    # Prepare the text input by adding the appropriate \"generate title:\" prefix and encoding it\n",
        "    input_text = \"generate title: \" + description\n",
        "    input_ids = tokenizer.encode(input_text, return_tensors=\"pt\", max_length=512, truncation=True).to(device)\n",
        "\n",
        "    # Generate outputs using the model\n",
        "    with torch.no_grad():\n",
        "        outputs = model.generate(\n",
        "            input_ids,\n",
        "            max_length=64,\n",
        "            # use beam search\n",
        "            num_beams=10,\n",
        "            no_repeat_ngram_size=2\n",
        "        )\n",
        "\n",
        "    # Decode the generated id to a string\n",
        "    title = tokenizer.decode(outputs[0], skip_special_tokens=True)\n",
        "    return title\n"
      ],
      "metadata": {
        "id": "pHdHhQuMZYJw"
      },
      "execution_count": null,
      "outputs": []
    },
    {
      "cell_type": "code",
      "source": [
        "# Example usage\n",
        "description = \"It follows the Grinch, a cranky, solitary creature who attempts to thwart the public's Christmas plans by stealing Christmas gifts and decorations from the homes of the nearby town on Christmas Eve.\"\n",
        "model = T5ForConditionalGeneration.from_pretrained('./best_model').to(device)\n",
        "tokenizer = T5Tokenizer.from_pretrained('t5-base')\n",
        "\n",
        "generated_title = generate_book_title(description, model, tokenizer, device)\n",
        "print(\"Generated Title:\", generated_title)"
      ],
      "metadata": {
        "id": "2ZsdGpDpZZK3",
        "colab": {
          "base_uri": "https://localhost:8080/"
        },
        "outputId": "084dd214-52cc-415f-e2a9-f56b86b15e99"
      },
      "execution_count": null,
      "outputs": [
        {
          "output_type": "stream",
          "name": "stderr",
          "text": [
            "Special tokens have been added in the vocabulary, make sure the associated word embeddings are fine-tuned or trained.\n"
          ]
        },
        {
          "output_type": "stream",
          "name": "stdout",
          "text": [
            "Generated Title: The Grinch\n"
          ]
        }
      ]
    },
    {
      "cell_type": "code",
      "source": [
        "# Example usage\n",
        "description = \"The book is about 11 year old Harry Potter, who receives a letter saying that he is invited to attend Hogwarts, school of witchcraft and wizardry. He then learns that a powerful wizard and his minions are after the sorcerer's stone that will make this evil wizard immortal and undefeatable.\"\n",
        "generated_title = generate_book_title(description, model, tokenizer, device)\n",
        "print(\"Generated Title:\", generated_title)"
      ],
      "metadata": {
        "colab": {
          "base_uri": "https://localhost:8080/"
        },
        "id": "miPLB92Kk0Cx",
        "outputId": "8d669bbc-bfd7-4a27-ac4a-5631749fb069"
      },
      "execution_count": null,
      "outputs": [
        {
          "output_type": "stream",
          "name": "stdout",
          "text": [
            "Generated Title: Harry Potter and the Sorcerer's Stone\n"
          ]
        }
      ]
    },
    {
      "cell_type": "code",
      "source": [
        "!zip -r best_model.zip ./best_model"
      ],
      "metadata": {
        "colab": {
          "base_uri": "https://localhost:8080/"
        },
        "id": "OEvRii0Qt5gC",
        "outputId": "34c047ed-b1ea-49e9-8e9a-d78d487c8df3"
      },
      "execution_count": null,
      "outputs": [
        {
          "output_type": "stream",
          "name": "stdout",
          "text": [
            "  adding: best_model/ (stored 0%)\n",
            "  adding: best_model/config.json (deflated 63%)\n",
            "  adding: best_model/model.safetensors (deflated 8%)\n",
            "  adding: best_model/generation_config.json (deflated 29%)\n"
          ]
        }
      ]
    },
    {
      "cell_type": "code",
      "source": [
        "!cp best_model.zip '/content/drive/MyDrive'"
      ],
      "metadata": {
        "id": "8mZUYIAbt55e"
      },
      "execution_count": null,
      "outputs": []
    }
  ]
}